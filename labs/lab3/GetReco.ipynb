{
 "cells": [
  {
   "cell_type": "code",
   "execution_count": 8,
   "metadata": {},
   "outputs": [],
   "source": [
    "import boto3\n",
    "\n",
    "import json\n",
    "import numpy as np\n",
    "import pandas as pd\n",
    "import time\n",
    "\n",
    "personalize = boto3.client('personalize')\n",
    "personalize_runtime = boto3.client('personalize-runtime')\n",
    "\n",
    "suffix = str(np.random.uniform())[4:9]\n"
   ]
  },
  {
   "cell_type": "code",
   "execution_count": 9,
   "metadata": {},
   "outputs": [
    {
     "data": {
      "text/html": [
       "<div>\n",
       "<style scoped>\n",
       "    .dataframe tbody tr th:only-of-type {\n",
       "        vertical-align: middle;\n",
       "    }\n",
       "\n",
       "    .dataframe tbody tr th {\n",
       "        vertical-align: top;\n",
       "    }\n",
       "\n",
       "    .dataframe thead th {\n",
       "        text-align: right;\n",
       "    }\n",
       "</style>\n",
       "<table border=\"1\" class=\"dataframe\">\n",
       "  <thead>\n",
       "    <tr style=\"text-align: right;\">\n",
       "      <th></th>\n",
       "      <th>USER_ID</th>\n",
       "      <th>ITEM_ID</th>\n",
       "      <th>EVENT_TYPE</th>\n",
       "      <th>EVENT_VALUE</th>\n",
       "      <th>TIMESTAMP</th>\n",
       "    </tr>\n",
       "  </thead>\n",
       "  <tbody>\n",
       "    <tr>\n",
       "      <th>0</th>\n",
       "      <td>2915</td>\n",
       "      <td>aFu4TE6d6f6R2dcfG4CABpa50hbdW3u</td>\n",
       "      <td>open</td>\n",
       "      <td>10</td>\n",
       "      <td>1576613611</td>\n",
       "    </tr>\n",
       "    <tr>\n",
       "      <th>1</th>\n",
       "      <td>2915</td>\n",
       "      <td>aFu4TE6d6f6R2dcfG4CABpa50hbdW3u</td>\n",
       "      <td>dislike</td>\n",
       "      <td>0</td>\n",
       "      <td>1576616311</td>\n",
       "    </tr>\n",
       "    <tr>\n",
       "      <th>2</th>\n",
       "      <td>24771</td>\n",
       "      <td>v0BLTva9ceGdOELD4UdC0gsKGZXGn5m</td>\n",
       "      <td>open</td>\n",
       "      <td>10</td>\n",
       "      <td>1576605571</td>\n",
       "    </tr>\n",
       "    <tr>\n",
       "      <th>3</th>\n",
       "      <td>24771</td>\n",
       "      <td>v0BLTva9ceGdOELD4UdC0gsKGZXGn5m</td>\n",
       "      <td>dislike</td>\n",
       "      <td>0</td>\n",
       "      <td>1576630711</td>\n",
       "    </tr>\n",
       "    <tr>\n",
       "      <th>4</th>\n",
       "      <td>29741</td>\n",
       "      <td>luKxU73rtr0lKwcST2bX/Hfby8ozqGq</td>\n",
       "      <td>open</td>\n",
       "      <td>10</td>\n",
       "      <td>1576593451</td>\n",
       "    </tr>\n",
       "  </tbody>\n",
       "</table>\n",
       "</div>"
      ],
      "text/plain": [
       "   USER_ID                          ITEM_ID EVENT_TYPE  EVENT_VALUE  \\\n",
       "0     2915  aFu4TE6d6f6R2dcfG4CABpa50hbdW3u       open           10   \n",
       "1     2915  aFu4TE6d6f6R2dcfG4CABpa50hbdW3u    dislike            0   \n",
       "2    24771  v0BLTva9ceGdOELD4UdC0gsKGZXGn5m       open           10   \n",
       "3    24771  v0BLTva9ceGdOELD4UdC0gsKGZXGn5m    dislike            0   \n",
       "4    29741  luKxU73rtr0lKwcST2bX/Hfby8ozqGq       open           10   \n",
       "\n",
       "    TIMESTAMP  \n",
       "0  1576613611  \n",
       "1  1576616311  \n",
       "2  1576605571  \n",
       "3  1576630711  \n",
       "4  1576593451  "
      ]
     },
     "execution_count": 9,
     "metadata": {},
     "output_type": "execute_result"
    }
   ],
   "source": [
    "generated_data_df = pd.read_csv('generated_data.csv')\n",
    "\n",
    "generated_data_df.head()"
   ]
  },
  {
   "cell_type": "code",
   "execution_count": 40,
   "metadata": {},
   "outputs": [
    {
     "name": "stdout",
     "output_type": "stream",
     "text": [
      "__________________________________________________\n"
     ]
    },
    {
     "ename": "InvalidInputException",
     "evalue": "An error occurred (InvalidInputException) when calling the GetPersonalizedRanking operation: This API can only be used for campaigns created using the AWS-Personalized-Ranking recipe.",
     "output_type": "error",
     "traceback": [
      "\u001b[0;31m---------------------------------------------------------------------------\u001b[0m",
      "\u001b[0;31mInvalidInputException\u001b[0m                     Traceback (most recent call last)",
      "\u001b[0;32m<ipython-input-40-e7f4348ae5a0>\u001b[0m in \u001b[0;36m<module>\u001b[0;34m()\u001b[0m\n\u001b[1;32m     16\u001b[0m     \u001b[0;32mfor\u001b[0m \u001b[0mitem\u001b[0m \u001b[0;32min\u001b[0m \u001b[0mitem_list\u001b[0m\u001b[0;34m:\u001b[0m\u001b[0;34m\u001b[0m\u001b[0m\n\u001b[1;32m     17\u001b[0m         \u001b[0mitem_list_list\u001b[0m\u001b[0;34m.\u001b[0m\u001b[0mappend\u001b[0m\u001b[0;34m(\u001b[0m\u001b[0mitem\u001b[0m\u001b[0;34m[\u001b[0m\u001b[0;34m'itemId'\u001b[0m\u001b[0;34m]\u001b[0m\u001b[0;34m)\u001b[0m\u001b[0;34m\u001b[0m\u001b[0m\n\u001b[0;32m---> 18\u001b[0;31m     \u001b[0mget_personalized_ranking_response\u001b[0m \u001b[0;34m=\u001b[0m \u001b[0mpersonalize_runtime\u001b[0m\u001b[0;34m.\u001b[0m\u001b[0mget_personalized_ranking\u001b[0m\u001b[0;34m(\u001b[0m\u001b[0mcampaignArn\u001b[0m\u001b[0;34m=\u001b[0m\u001b[0mcampaign_arn\u001b[0m\u001b[0;34m,\u001b[0m \u001b[0minputList\u001b[0m\u001b[0;34m=\u001b[0m\u001b[0mitem_list_list\u001b[0m\u001b[0;34m,\u001b[0m \u001b[0muserId\u001b[0m\u001b[0;34m=\u001b[0m\u001b[0mstr\u001b[0m\u001b[0;34m(\u001b[0m\u001b[0mj\u001b[0m\u001b[0;34m[\u001b[0m\u001b[0;34m'USER_ID'\u001b[0m\u001b[0;34m]\u001b[0m\u001b[0;34m)\u001b[0m\u001b[0;34m)\u001b[0m\u001b[0;34m\u001b[0m\u001b[0m\n\u001b[0m\u001b[1;32m     19\u001b[0m     \u001b[0mprint\u001b[0m\u001b[0;34m(\u001b[0m\u001b[0mget_personalized_ranking_response\u001b[0m\u001b[0;34m)\u001b[0m\u001b[0;34m\u001b[0m\u001b[0m\n\u001b[1;32m     20\u001b[0m \u001b[0;34m\u001b[0m\u001b[0m\n",
      "\u001b[0;32m~/anaconda3/envs/pytorch_p36/lib/python3.6/site-packages/botocore/client.py\u001b[0m in \u001b[0;36m_api_call\u001b[0;34m(self, *args, **kwargs)\u001b[0m\n\u001b[1;32m    355\u001b[0m                     \"%s() only accepts keyword arguments.\" % py_operation_name)\n\u001b[1;32m    356\u001b[0m             \u001b[0;31m# The \"self\" in this scope is referring to the BaseClient.\u001b[0m\u001b[0;34m\u001b[0m\u001b[0;34m\u001b[0m\u001b[0m\n\u001b[0;32m--> 357\u001b[0;31m             \u001b[0;32mreturn\u001b[0m \u001b[0mself\u001b[0m\u001b[0;34m.\u001b[0m\u001b[0m_make_api_call\u001b[0m\u001b[0;34m(\u001b[0m\u001b[0moperation_name\u001b[0m\u001b[0;34m,\u001b[0m \u001b[0mkwargs\u001b[0m\u001b[0;34m)\u001b[0m\u001b[0;34m\u001b[0m\u001b[0m\n\u001b[0m\u001b[1;32m    358\u001b[0m \u001b[0;34m\u001b[0m\u001b[0m\n\u001b[1;32m    359\u001b[0m         \u001b[0m_api_call\u001b[0m\u001b[0;34m.\u001b[0m\u001b[0m__name__\u001b[0m \u001b[0;34m=\u001b[0m \u001b[0mstr\u001b[0m\u001b[0;34m(\u001b[0m\u001b[0mpy_operation_name\u001b[0m\u001b[0;34m)\u001b[0m\u001b[0;34m\u001b[0m\u001b[0m\n",
      "\u001b[0;32m~/anaconda3/envs/pytorch_p36/lib/python3.6/site-packages/botocore/client.py\u001b[0m in \u001b[0;36m_make_api_call\u001b[0;34m(self, operation_name, api_params)\u001b[0m\n\u001b[1;32m    659\u001b[0m             \u001b[0merror_code\u001b[0m \u001b[0;34m=\u001b[0m \u001b[0mparsed_response\u001b[0m\u001b[0;34m.\u001b[0m\u001b[0mget\u001b[0m\u001b[0;34m(\u001b[0m\u001b[0;34m\"Error\"\u001b[0m\u001b[0;34m,\u001b[0m \u001b[0;34m{\u001b[0m\u001b[0;34m}\u001b[0m\u001b[0;34m)\u001b[0m\u001b[0;34m.\u001b[0m\u001b[0mget\u001b[0m\u001b[0;34m(\u001b[0m\u001b[0;34m\"Code\"\u001b[0m\u001b[0;34m)\u001b[0m\u001b[0;34m\u001b[0m\u001b[0m\n\u001b[1;32m    660\u001b[0m             \u001b[0merror_class\u001b[0m \u001b[0;34m=\u001b[0m \u001b[0mself\u001b[0m\u001b[0;34m.\u001b[0m\u001b[0mexceptions\u001b[0m\u001b[0;34m.\u001b[0m\u001b[0mfrom_code\u001b[0m\u001b[0;34m(\u001b[0m\u001b[0merror_code\u001b[0m\u001b[0;34m)\u001b[0m\u001b[0;34m\u001b[0m\u001b[0m\n\u001b[0;32m--> 661\u001b[0;31m             \u001b[0;32mraise\u001b[0m \u001b[0merror_class\u001b[0m\u001b[0;34m(\u001b[0m\u001b[0mparsed_response\u001b[0m\u001b[0;34m,\u001b[0m \u001b[0moperation_name\u001b[0m\u001b[0;34m)\u001b[0m\u001b[0;34m\u001b[0m\u001b[0m\n\u001b[0m\u001b[1;32m    662\u001b[0m         \u001b[0;32melse\u001b[0m\u001b[0;34m:\u001b[0m\u001b[0;34m\u001b[0m\u001b[0m\n\u001b[1;32m    663\u001b[0m             \u001b[0;32mreturn\u001b[0m \u001b[0mparsed_response\u001b[0m\u001b[0;34m\u001b[0m\u001b[0m\n",
      "\u001b[0;31mInvalidInputException\u001b[0m: An error occurred (InvalidInputException) when calling the GetPersonalizedRanking operation: This API can only be used for campaigns created using the AWS-Personalized-Ranking recipe."
     ]
    }
   ],
   "source": [
    "c = 0 \n",
    "campaign_arn = 'arn:aws:personalize:us-east-1:111652037296:campaign/wtty-campaign-82058'\n",
    "\n",
    "for i, j in generated_data_df.iterrows(): \n",
    "    \n",
    "    print('_'*50)\n",
    "    \n",
    "    c = c + 1\n",
    "    \n",
    "    if(c>100):\n",
    "        break\n",
    "        \n",
    "    get_recommendations_response = personalize_runtime.get_recommendations(campaignArn = campaign_arn, userId=str(j['USER_ID']))\n",
    "    item_list = get_recommendations_response['itemList']\n",
    "    item_list_list = []\n",
    "    for item in item_list:\n",
    "        item_list_list.append(item['itemId'])\n",
    "    #get_personalized_ranking_response = personalize_runtime.get_personalized_ranking(campaignArn=campaign_arn, inputList=item_list_list, userId=str(j['USER_ID']))\n",
    "    #print(get_personalized_ranking_response)\n",
    "            "
   ]
  },
  {
   "cell_type": "code",
   "execution_count": 14,
   "metadata": {},
   "outputs": [
    {
     "data": {
      "text/plain": [
       "{'ResponseMetadata': {'RequestId': '9f2efd2b-d000-48f2-a3b0-2426625bc088',\n",
       "  'HTTPStatusCode': 200,\n",
       "  'HTTPHeaders': {'content-type': 'application/json',\n",
       "   'date': 'Tue, 17 Dec 2019 20:28:37 GMT',\n",
       "   'x-amzn-requestid': '9f2efd2b-d000-48f2-a3b0-2426625bc088',\n",
       "   'content-length': '1139',\n",
       "   'connection': 'keep-alive'},\n",
       "  'RetryAttempts': 0},\n",
       " 'itemList': [{'itemId': '4m9NsC2ugjX0oOAYi..tQ2JeP07OSI2'},\n",
       "  {'itemId': '24dGbGg1eYnghd/ZH7PXntTNlDYPTNm'},\n",
       "  {'itemId': 'vTaqS1oTxVi.YZQcdokpvpBxGUgKnDW'},\n",
       "  {'itemId': 'oka7h7brGtH3jzuHwZBJN/zhxYn3hVi'},\n",
       "  {'itemId': 'xp6cJK9YSMf1n97KIlo4AcuGUnREkXm'},\n",
       "  {'itemId': 'l.qWiDGCcVX/RIrQlfQj4xbmSUSvFfu'},\n",
       "  {'itemId': 'qb7WFQICxhTJ.pBrnog1h9T6GsmUXja'},\n",
       "  {'itemId': 'eY6/HebtdVe.HrU91oZiPFfASoGARY6'},\n",
       "  {'itemId': 'fRv9nLHyZls3FFzoQuIBrLyMJ3WJTAa'},\n",
       "  {'itemId': 'EmuAnnr6KxvVBULEzYP/58ITFmt1xFm'},\n",
       "  {'itemId': 'Nn4Sly4cgj1joz3GyNL/R/0qXuZoHom'},\n",
       "  {'itemId': '82pCQjTBGR91LVEd6G23uI.Pp9AEV.O'},\n",
       "  {'itemId': 'dmZeo4JtoCDY34A2KuuP9QkfauhCmCm'},\n",
       "  {'itemId': 'zCjQD1wBcTxGkqZuC4KbSkoXBPc3nem'},\n",
       "  {'itemId': 'vyiiC9PH6PelHrZjKBD8Z.OXZA/zSwm'},\n",
       "  {'itemId': 'lLmcu1ig2C4RaWeGl2nLARDhzGyD.5C'},\n",
       "  {'itemId': 'L5T7IP4V/6UrA94DufeoL2fe2rxG1W2'},\n",
       "  {'itemId': '5hFdjNWZGdl2pARFswFLMRxz4HoWt.C'},\n",
       "  {'itemId': 'lkzimNC1D.Gn3HImC853XLE28eSYL5a'},\n",
       "  {'itemId': '2b.TQL7drrXn9im4olTEczbq9sZo3E2'},\n",
       "  {'itemId': 'D78xiLQea6cUy.kjr9gIfEgOvWnMUE.'},\n",
       "  {'itemId': 'QP1BI2osFQHF/Z7RFViNq3VrWzppPX2'},\n",
       "  {'itemId': 'ByhQ4qMascrF6L6niVQnRsLvqwPTng6'},\n",
       "  {'itemId': 'HnUd3bn2GcOBXk9mZcPTfzB0ybnB./6'},\n",
       "  {'itemId': '9FzqgG9LOLkiP5f0ToZOZ34ap7OEMMa'}]}"
      ]
     },
     "execution_count": 14,
     "metadata": {},
     "output_type": "execute_result"
    }
   ],
   "source": [
    "\n",
    "campaign_arn = 'arn:aws:personalize:us-east-1:111652037296:campaign/wtty-campaign-82058'\n",
    "\n",
    "get_recommendations_response = personalize_runtime.get_recommendations(\n",
    "    campaignArn = campaign_arn,\n",
    "    userId='22896'\n",
    ")\n",
    "\n",
    "get_recommendations_response"
   ]
  },
  {
   "cell_type": "code",
   "execution_count": 20,
   "metadata": {},
   "outputs": [
    {
     "name": "stdout",
     "output_type": "stream",
     "text": [
      "{'itemId': '4m9NsC2ugjX0oOAYi..tQ2JeP07OSI2'}\n",
      "{'itemId': '24dGbGg1eYnghd/ZH7PXntTNlDYPTNm'}\n",
      "{'itemId': 'vTaqS1oTxVi.YZQcdokpvpBxGUgKnDW'}\n",
      "{'itemId': 'oka7h7brGtH3jzuHwZBJN/zhxYn3hVi'}\n",
      "{'itemId': 'xp6cJK9YSMf1n97KIlo4AcuGUnREkXm'}\n",
      "{'itemId': 'l.qWiDGCcVX/RIrQlfQj4xbmSUSvFfu'}\n",
      "{'itemId': 'qb7WFQICxhTJ.pBrnog1h9T6GsmUXja'}\n",
      "{'itemId': 'eY6/HebtdVe.HrU91oZiPFfASoGARY6'}\n",
      "{'itemId': 'fRv9nLHyZls3FFzoQuIBrLyMJ3WJTAa'}\n",
      "{'itemId': 'EmuAnnr6KxvVBULEzYP/58ITFmt1xFm'}\n",
      "{'itemId': 'Nn4Sly4cgj1joz3GyNL/R/0qXuZoHom'}\n",
      "{'itemId': '82pCQjTBGR91LVEd6G23uI.Pp9AEV.O'}\n",
      "{'itemId': 'dmZeo4JtoCDY34A2KuuP9QkfauhCmCm'}\n",
      "{'itemId': 'zCjQD1wBcTxGkqZuC4KbSkoXBPc3nem'}\n",
      "{'itemId': 'vyiiC9PH6PelHrZjKBD8Z.OXZA/zSwm'}\n",
      "{'itemId': 'lLmcu1ig2C4RaWeGl2nLARDhzGyD.5C'}\n",
      "{'itemId': 'L5T7IP4V/6UrA94DufeoL2fe2rxG1W2'}\n",
      "{'itemId': '5hFdjNWZGdl2pARFswFLMRxz4HoWt.C'}\n",
      "{'itemId': 'lkzimNC1D.Gn3HImC853XLE28eSYL5a'}\n",
      "{'itemId': '2b.TQL7drrXn9im4olTEczbq9sZo3E2'}\n",
      "{'itemId': 'D78xiLQea6cUy.kjr9gIfEgOvWnMUE.'}\n",
      "{'itemId': 'QP1BI2osFQHF/Z7RFViNq3VrWzppPX2'}\n",
      "{'itemId': 'ByhQ4qMascrF6L6niVQnRsLvqwPTng6'}\n",
      "{'itemId': 'HnUd3bn2GcOBXk9mZcPTfzB0ybnB./6'}\n",
      "{'itemId': '9FzqgG9LOLkiP5f0ToZOZ34ap7OEMMa'}\n"
     ]
    }
   ],
   "source": [
    "item_list = get_recommendations_response['itemList']\n",
    "\n",
    "#title_list = [items.loc[items['ITEM_ID'] == np.int(item['itemId'])].values[0][-1] for item in item_list]\n",
    "\n",
    "for item in item_list:\n",
    "    print(item)\n"
   ]
  },
  {
   "cell_type": "code",
   "execution_count": null,
   "metadata": {},
   "outputs": [],
   "source": []
  }
 ],
 "metadata": {
  "kernelspec": {
   "display_name": "conda_pytorch_p36",
   "language": "python",
   "name": "conda_pytorch_p36"
  },
  "language_info": {
   "codemirror_mode": {
    "name": "ipython",
    "version": 3
   },
   "file_extension": ".py",
   "mimetype": "text/x-python",
   "name": "python",
   "nbconvert_exporter": "python",
   "pygments_lexer": "ipython3",
   "version": "3.6.5"
  }
 },
 "nbformat": 4,
 "nbformat_minor": 4
}
