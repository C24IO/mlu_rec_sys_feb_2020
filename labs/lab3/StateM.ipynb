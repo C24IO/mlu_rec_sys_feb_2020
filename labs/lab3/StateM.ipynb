{
 "cells": [
  {
   "cell_type": "code",
   "execution_count": 2,
   "metadata": {},
   "outputs": [
    {
     "name": "stdout",
     "output_type": "stream",
     "text": [
      "Collecting transitions\n",
      "\u001b[?25l  Downloading https://files.pythonhosted.org/packages/ca/83/e579cc08917978421acd3418ab8f7d4ff68ade09ba51f41fb0499f075de3/transitions-0.7.1-py2.py3-none-any.whl (55kB)\n",
      "\u001b[K    100% |████████████████████████████████| 61kB 9.5MB/s ta 0:00:011\n",
      "\u001b[?25hRequirement already satisfied: six in /home/ec2-user/anaconda3/envs/pytorch_p36/lib/python3.6/site-packages (from transitions) (1.11.0)\n",
      "\u001b[31mfastai 1.0.59 requires nvidia-ml-py3, which is not installed.\u001b[0m\n",
      "Installing collected packages: transitions\n",
      "Successfully installed transitions-0.7.1\n",
      "\u001b[33mYou are using pip version 10.0.1, however version 19.3.1 is available.\n",
      "You should consider upgrading via the 'pip install --upgrade pip' command.\u001b[0m\n"
     ]
    }
   ],
   "source": [
    "!pip install transitions\n"
   ]
  },
  {
   "cell_type": "code",
   "execution_count": 3,
   "metadata": {},
   "outputs": [
    {
     "data": {
      "text/plain": [
       "\"\\n0 - 'dislike' - Left swipe (Interaction = disliked)\\n10 - 'open' - Opened (Interaction = opened activity)\\n20 - 'sharedf' - Shared with friend (Interaction = shared with friend)\\n30 - 'like' - Right swipe (Interaction = liked)\\n40 - 'sharedt' - Shared on timeline (Interaction = shared on timeline)\\n50 - 'sharede' - Shared on external (Interaction = shared on external)\\n60 - 'addc' - Added content (Interaction = added content)\\n70 - 'addposcom' - Added positive comment\\n80 - 'activityc' - Children activity created (Interaction = children activity created)\\n90 - 'purchased' - Purchased (Interaction = purchased)\\n100 - 'done' - Done (Interaction = Done, Performed)\\n\""
      ]
     },
     "execution_count": 3,
     "metadata": {},
     "output_type": "execute_result"
    }
   ],
   "source": [
    "\"\"\"\n",
    "0 - 'dislike' - Left swipe (Interaction = disliked)\n",
    "10 - 'open' - Opened (Interaction = opened activity)\n",
    "20 - 'sharedf' - Shared with friend (Interaction = shared with friend)\n",
    "30 - 'like' - Right swipe (Interaction = liked)\n",
    "40 - 'sharedt' - Shared on timeline (Interaction = shared on timeline)\n",
    "50 - 'sharede' - Shared on external (Interaction = shared on external)\n",
    "60 - 'addc' - Added content (Interaction = added content)\n",
    "70 - 'addposcom' - Added positive comment\n",
    "80 - 'activityc' - Children activity created (Interaction = children activity created)\n",
    "90 - 'purchased' - Purchased (Interaction = purchased)\n",
    "100 - 'done' - Done (Interaction = Done, Performed)\n",
    "\"\"\"\n"
   ]
  },
  {
   "cell_type": "code",
   "execution_count": 4,
   "metadata": {},
   "outputs": [],
   "source": [
    "# SM1  open --> like --> done\n",
    "# SM2  open --> like --> purchased --> done\n",
    "# SM3  open --> dislike\n",
    "# SM4  open --> like --> done --> sharedf\n",
    "# SM5  open --> like --> done --> sharedf --> sharede\n",
    "# SM6  open --> like --> done --> sharedf --> sharede --> addposcom\n",
    "# SM7  open --> like --> purchased --> done --> sharedf --> sharede --> addposcom "
   ]
  },
  {
   "cell_type": "code",
   "execution_count": 34,
   "metadata": {},
   "outputs": [],
   "source": [
    "from transitions import Machine\n",
    "import random"
   ]
  },
  {
   "cell_type": "code",
   "execution_count": 52,
   "metadata": {},
   "outputs": [],
   "source": [
    "#SM7  open --> like --> purchased --> done --> sharedf --> sharede --> addposcom \n",
    "class SM(object):\n",
    "    pass\n",
    "# The states\n",
    "# And some transitions between states. We're lazy, so we'll leave out\n",
    "# the inverse phase transitions (freezing, condensation, etc.).\n",
    "states=['dislike', 'open', 'sharedf', 'like', 'sharedt', 'sharede', 'addc', 'addposcom', 'activityc', 'purchased', 'done']\n",
    "\n",
    "sm7 = SM()\n",
    "transitions = [\n",
    "    { 'trigger': 'next', 'source': 'open', 'dest': 'like' },\n",
    "    { 'trigger': 'next', 'source': 'like', 'dest': 'purchased' },\n",
    "    { 'trigger': 'next', 'source': 'purchased', 'dest': 'done' },\n",
    "    { 'trigger': 'next', 'source': 'done', 'dest': 'sharedf' },\n",
    "    { 'trigger': 'next', 'source': 'sharedf', 'dest': 'sharede' },\n",
    "    { 'trigger': 'next', 'source': 'sharede', 'dest': 'addposcom' },\n",
    "    { 'trigger': 'reset', 'source': '*', 'dest': 'open' }\n",
    "]\n",
    "# Initialize\n",
    "m7 = Machine(sm7, states=states, transitions=transitions, initial='open', ignore_invalid_triggers=False)"
   ]
  },
  {
   "cell_type": "code",
   "execution_count": 53,
   "metadata": {},
   "outputs": [
    {
     "data": {
      "text/plain": [
       "'open'"
      ]
     },
     "execution_count": 53,
     "metadata": {},
     "output_type": "execute_result"
    }
   ],
   "source": [
    "sm7.next()\n",
    "sm7.next()\n",
    "sm7.state\n",
    "sm7.reset()\n",
    "sm7.state"
   ]
  },
  {
   "cell_type": "code",
   "execution_count": 54,
   "metadata": {},
   "outputs": [],
   "source": [
    "# SM1  open --> like --> done\n",
    "\n",
    "sm1 = SM()\n",
    "transitions = [\n",
    "    { 'trigger': 'next', 'source': 'open', 'dest': 'like' },\n",
    "    { 'trigger': 'next', 'source': 'like', 'dest': 'done' },\n",
    "    { 'trigger': 'reset', 'source': '*', 'dest': 'open' }\n",
    "]\n",
    "# Initialize\n",
    "m1 = Machine(sm1, states=states, transitions=transitions, initial='open', ignore_invalid_triggers=False)"
   ]
  },
  {
   "cell_type": "code",
   "execution_count": 55,
   "metadata": {},
   "outputs": [],
   "source": [
    "# SM2  open --> like --> purchased --> done << TODO DSL \n",
    "sm2 = SM()\n",
    "transitions = [\n",
    "    { 'trigger': 'next', 'source': 'open', 'dest': 'like' },\n",
    "    { 'trigger': 'next', 'source': 'like', 'dest': 'purchased' },\n",
    "    { 'trigger': 'next', 'source': 'purchased', 'dest': 'done' },\n",
    "    { 'trigger': 'reset', 'source': '*', 'dest': 'open' }\n",
    "]\n",
    "# Initialize\n",
    "m2 = Machine(sm2, states=states, transitions=transitions, initial='open', ignore_invalid_triggers=False)"
   ]
  },
  {
   "cell_type": "code",
   "execution_count": 56,
   "metadata": {},
   "outputs": [],
   "source": [
    "# SM3  open --> dislike\n",
    "sm3 = SM()\n",
    "transitions = [\n",
    "    { 'trigger': 'next', 'source': 'open', 'dest': 'dislike' },\n",
    "    { 'trigger': 'reset', 'source': '*', 'dest': 'open' }\n",
    "]\n",
    "# Initialize\n",
    "m3 = Machine(sm3, states=states, transitions=transitions, initial='open', ignore_invalid_triggers=False)"
   ]
  },
  {
   "cell_type": "code",
   "execution_count": 57,
   "metadata": {},
   "outputs": [],
   "source": [
    "# SM4  open --> like --> done --> sharedf\n",
    "sm4 = SM()\n",
    "transitions = [\n",
    "    { 'trigger': 'next', 'source': 'open', 'dest': 'like' },\n",
    "    { 'trigger': 'next', 'source': 'like', 'dest': 'done' },\n",
    "    { 'trigger': 'next', 'source': 'done', 'dest': 'sharedf' },\n",
    "    { 'trigger': 'reset', 'source': '*', 'dest': 'open' }\n",
    "]\n",
    "# Initialize\n",
    "m4 = Machine(sm4, states=states, transitions=transitions, initial='open', ignore_invalid_triggers=False)"
   ]
  },
  {
   "cell_type": "code",
   "execution_count": 58,
   "metadata": {},
   "outputs": [],
   "source": [
    "# SM5  open --> like --> done --> sharedf --> sharede\n",
    "sm5 = SM()\n",
    "transitions = [\n",
    "    { 'trigger': 'next', 'source': 'open', 'dest': 'like' },\n",
    "    { 'trigger': 'next', 'source': 'like', 'dest': 'done' },\n",
    "    { 'trigger': 'next', 'source': 'done', 'dest': 'sharedf' },\n",
    "    { 'trigger': 'next', 'source': 'sharedf', 'dest': 'sharede' },\n",
    "    { 'trigger': 'reset', 'source': '*', 'dest': 'open' }\n",
    "]\n",
    "# Initialize\n",
    "m5 = Machine(sm5, states=states, transitions=transitions, initial='open', ignore_invalid_triggers=False)"
   ]
  },
  {
   "cell_type": "code",
   "execution_count": 59,
   "metadata": {},
   "outputs": [],
   "source": [
    "# SM6  open --> like --> done --> sharedf --> sharede --> addposcom\n",
    "sm6 = SM()\n",
    "transitions = [\n",
    "    { 'trigger': 'next', 'source': 'open', 'dest': 'like' },\n",
    "    { 'trigger': 'next', 'source': 'like', 'dest': 'done' },    \n",
    "    { 'trigger': 'next', 'source': 'done', 'dest': 'sharedf' },\n",
    "    { 'trigger': 'next', 'source': 'sharedf', 'dest': 'addposcom' },\n",
    "    { 'trigger': 'reset', 'source': '*', 'dest': 'open' }\n",
    "]\n",
    "# Initialize\n",
    "m6 = Machine(sm6, states=states, transitions=transitions, initial='open', ignore_invalid_triggers=False)"
   ]
  },
  {
   "cell_type": "code",
   "execution_count": 67,
   "metadata": {},
   "outputs": [
    {
     "name": "stdout",
     "output_type": "stream",
     "text": [
      "-_-_-\n",
      "1576524037.452026\n",
      "dislike\n",
      "endstate\n",
      "-_-_-\n",
      "-_-_-\n",
      "1576495837.452416\n",
      "like\n",
      "1576504897.452539\n",
      "purchased\n",
      "1576514557.45265\n",
      "done\n",
      "1576534177.452758\n",
      "sharedf\n",
      "1576558357.452876\n",
      "sharede\n",
      "1576589377.452972\n",
      "addposcom\n",
      "endstate\n",
      "-_-_-\n",
      "-_-_-\n",
      "1576507957.453384\n",
      "like\n",
      "1576534957.453482\n",
      "done\n",
      "1576562437.45357\n",
      "sharedf\n",
      "1576568497.454016\n",
      "sharede\n",
      "endstate\n",
      "-_-_-\n",
      "-_-_-\n",
      "1576501957.454222\n",
      "like\n",
      "1576535197.454299\n",
      "done\n",
      "1576538317.454372\n",
      "sharedf\n",
      "endstate\n",
      "-_-_-\n",
      "-_-_-\n",
      "1576513237.454615\n",
      "like\n",
      "1576541377.454693\n",
      "done\n",
      "1576557097.454849\n",
      "sharedf\n",
      "1576574557.454967\n",
      "addposcom\n",
      "endstate\n",
      "-_-_-\n",
      "-_-_-\n",
      "1576514077.456581\n",
      "like\n",
      "1576524877.456649\n",
      "done\n",
      "endstate\n",
      "-_-_-\n",
      "-_-_-\n",
      "1576505497.457194\n",
      "like\n",
      "1576539217.457277\n",
      "purchased\n",
      "1576543957.457673\n",
      "done\n",
      "endstate\n",
      "-_-_-\n"
     ]
    }
   ],
   "source": [
    "from transitions import MachineError\n",
    "import datetime\n",
    "\n",
    "for i in {sm1, sm2, sm3, sm4, sm5, sm6, sm7}:\n",
    "    \n",
    "    sm = i \n",
    "    timestep = random.randint(1,600)    \n",
    "    i.reset()\n",
    "    \n",
    "    print(*3*('-',), sep='_')\n",
    "    \n",
    "    while True: \n",
    "        try: \n",
    "            sm.next()\n",
    "        except MachineError as e:\n",
    "            print('endstate')\n",
    "            break\n",
    "        else:            \n",
    "            print((datetime.datetime.now() + datetime.timedelta(minutes=timestep)).timestamp())\n",
    "            print(sm.state)\n",
    "            timestep = timestep + random.randint(1,600)\n",
    "            \n",
    "    print(*3*('-',), sep='_')            \n",
    "        "
   ]
  },
  {
   "cell_type": "code",
   "execution_count": null,
   "metadata": {},
   "outputs": [],
   "source": [
    "#The idea is that within a session you want an user to go from one state to the other in a session \n",
    "\n"
   ]
  },
  {
   "cell_type": "code",
   "execution_count": null,
   "metadata": {},
   "outputs": [],
   "source": []
  }
 ],
 "metadata": {
  "kernelspec": {
   "display_name": "conda_pytorch_p36",
   "language": "python",
   "name": "conda_pytorch_p36"
  },
  "language_info": {
   "codemirror_mode": {
    "name": "ipython",
    "version": 3
   },
   "file_extension": ".py",
   "mimetype": "text/x-python",
   "name": "python",
   "nbconvert_exporter": "python",
   "pygments_lexer": "ipython3",
   "version": "3.6.5"
  }
 },
 "nbformat": 4,
 "nbformat_minor": 4
}
