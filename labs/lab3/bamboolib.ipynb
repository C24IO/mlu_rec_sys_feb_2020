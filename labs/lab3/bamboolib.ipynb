{
 "cells": [
  {
   "cell_type": "code",
   "execution_count": 1,
   "metadata": {},
   "outputs": [
    {
     "name": "stdout",
     "output_type": "stream",
     "text": [
      "Requirement already satisfied: bamboolib in /home/ec2-user/anaconda3/envs/JupyterSystemEnv/lib/python3.6/site-packages (1.1.0)\n",
      "Requirement already satisfied: analytics-python>=1.2.9 in /home/ec2-user/anaconda3/envs/JupyterSystemEnv/lib/python3.6/site-packages (from bamboolib) (1.2.9)\n",
      "Requirement already satisfied: pandas>=0.18.0 in /home/ec2-user/anaconda3/envs/JupyterSystemEnv/lib/python3.6/site-packages (from bamboolib) (0.22.0)\n",
      "Requirement already satisfied: notebook>=5.3.0 in /home/ec2-user/anaconda3/envs/JupyterSystemEnv/lib/python3.6/site-packages (from bamboolib) (5.7.8)\n",
      "Requirement already satisfied: ipywidgets>=7.0.0 in /home/ec2-user/anaconda3/envs/JupyterSystemEnv/lib/python3.6/site-packages (from bamboolib) (7.5.1)\n",
      "Requirement already satisfied: cryptography>=2.6.1 in /home/ec2-user/anaconda3/envs/JupyterSystemEnv/lib/python3.6/site-packages (from bamboolib) (2.8)\n",
      "Requirement already satisfied: qgrid>=1.1.1 in /home/ec2-user/anaconda3/envs/JupyterSystemEnv/lib/python3.6/site-packages (from bamboolib) (1.1.1)\n",
      "Requirement already satisfied: jupyterlab>=1.0 in /home/ec2-user/anaconda3/envs/JupyterSystemEnv/lib/python3.6/site-packages (from bamboolib) (1.2.3)\n",
      "Requirement already satisfied: plotly>=3.10.0 in /home/ec2-user/anaconda3/envs/JupyterSystemEnv/lib/python3.6/site-packages (from bamboolib) (4.3.0)\n",
      "Requirement already satisfied: scikit-learn>=0.20.2 in /home/ec2-user/anaconda3/envs/JupyterSystemEnv/lib/python3.6/site-packages (from bamboolib) (0.22)\n",
      "Requirement already satisfied: requests<3.0,>=2.7 in /home/ec2-user/anaconda3/envs/JupyterSystemEnv/lib/python3.6/site-packages (from analytics-python>=1.2.9->bamboolib) (2.20.1)\n",
      "Requirement already satisfied: six>=1.5 in /home/ec2-user/anaconda3/envs/JupyterSystemEnv/lib/python3.6/site-packages (from analytics-python>=1.2.9->bamboolib) (1.13.0)\n",
      "Requirement already satisfied: python-dateutil>2.1 in /home/ec2-user/anaconda3/envs/JupyterSystemEnv/lib/python3.6/site-packages (from analytics-python>=1.2.9->bamboolib) (2.8.0)\n",
      "Requirement already satisfied: pytz>=2011k in /home/ec2-user/anaconda3/envs/JupyterSystemEnv/lib/python3.6/site-packages (from pandas>=0.18.0->bamboolib) (2019.3)\n",
      "Requirement already satisfied: numpy>=1.9.0 in /home/ec2-user/anaconda3/envs/JupyterSystemEnv/lib/python3.6/site-packages (from pandas>=0.18.0->bamboolib) (1.17.3)\n",
      "Requirement already satisfied: pyzmq>=17 in /home/ec2-user/anaconda3/envs/JupyterSystemEnv/lib/python3.6/site-packages (from notebook>=5.3.0->bamboolib) (18.1.0)\n",
      "Requirement already satisfied: nbconvert in /home/ec2-user/anaconda3/envs/JupyterSystemEnv/lib/python3.6/site-packages (from notebook>=5.3.0->bamboolib) (5.6.1)\n",
      "Requirement already satisfied: Send2Trash in /home/ec2-user/anaconda3/envs/JupyterSystemEnv/lib/python3.6/site-packages (from notebook>=5.3.0->bamboolib) (1.5.0)\n",
      "Requirement already satisfied: jupyter-core>=4.4.0 in /home/ec2-user/anaconda3/envs/JupyterSystemEnv/lib/python3.6/site-packages (from notebook>=5.3.0->bamboolib) (4.6.1)\n",
      "Requirement already satisfied: terminado>=0.8.1 in /home/ec2-user/anaconda3/envs/JupyterSystemEnv/lib/python3.6/site-packages (from notebook>=5.3.0->bamboolib) (0.8.2)\n",
      "Requirement already satisfied: ipykernel in /home/ec2-user/anaconda3/envs/JupyterSystemEnv/lib/python3.6/site-packages (from notebook>=5.3.0->bamboolib) (5.1.3)\n",
      "Requirement already satisfied: jinja2 in /home/ec2-user/anaconda3/envs/JupyterSystemEnv/lib/python3.6/site-packages (from notebook>=5.3.0->bamboolib) (2.10.3)\n",
      "Requirement already satisfied: tornado<7,>=4.1 in /home/ec2-user/anaconda3/envs/JupyterSystemEnv/lib/python3.6/site-packages (from notebook>=5.3.0->bamboolib) (6.0.3)\n",
      "Requirement already satisfied: ipython-genutils in /home/ec2-user/anaconda3/envs/JupyterSystemEnv/lib/python3.6/site-packages (from notebook>=5.3.0->bamboolib) (0.2.0)\n",
      "Requirement already satisfied: nbformat in /home/ec2-user/anaconda3/envs/JupyterSystemEnv/lib/python3.6/site-packages (from notebook>=5.3.0->bamboolib) (4.4.0)\n",
      "Requirement already satisfied: traitlets>=4.2.1 in /home/ec2-user/anaconda3/envs/JupyterSystemEnv/lib/python3.6/site-packages (from notebook>=5.3.0->bamboolib) (4.3.3)\n",
      "Requirement already satisfied: prometheus-client in /home/ec2-user/anaconda3/envs/JupyterSystemEnv/lib/python3.6/site-packages (from notebook>=5.3.0->bamboolib) (0.7.1)\n",
      "Requirement already satisfied: jupyter-client>=5.2.0 in /home/ec2-user/anaconda3/envs/JupyterSystemEnv/lib/python3.6/site-packages (from notebook>=5.3.0->bamboolib) (5.3.4)\n",
      "Requirement already satisfied: widgetsnbextension~=3.5.0 in /home/ec2-user/anaconda3/envs/JupyterSystemEnv/lib/python3.6/site-packages (from ipywidgets>=7.0.0->bamboolib) (3.5.1)\n",
      "Requirement already satisfied: ipython>=4.0.0; python_version >= \"3.3\" in /home/ec2-user/anaconda3/envs/JupyterSystemEnv/lib/python3.6/site-packages (from ipywidgets>=7.0.0->bamboolib) (7.9.0)\n",
      "Requirement already satisfied: cffi!=1.11.3,>=1.8 in /home/ec2-user/anaconda3/envs/JupyterSystemEnv/lib/python3.6/site-packages (from cryptography>=2.6.1->bamboolib) (1.13.2)\n",
      "Requirement already satisfied: jupyterlab-server~=1.0.0 in /home/ec2-user/anaconda3/envs/JupyterSystemEnv/lib/python3.6/site-packages (from jupyterlab>=1.0->bamboolib) (1.0.6)\n",
      "Requirement already satisfied: retrying>=1.3.3 in /home/ec2-user/anaconda3/envs/JupyterSystemEnv/lib/python3.6/site-packages (from plotly>=3.10.0->bamboolib) (1.3.3)\n",
      "Requirement already satisfied: joblib>=0.11 in /home/ec2-user/anaconda3/envs/JupyterSystemEnv/lib/python3.6/site-packages (from scikit-learn>=0.20.2->bamboolib) (0.14.1)\n",
      "Requirement already satisfied: scipy>=0.17.0 in /home/ec2-user/anaconda3/envs/JupyterSystemEnv/lib/python3.6/site-packages (from scikit-learn>=0.20.2->bamboolib) (1.3.2)\n",
      "Requirement already satisfied: idna<2.8,>=2.5 in /home/ec2-user/anaconda3/envs/JupyterSystemEnv/lib/python3.6/site-packages (from requests<3.0,>=2.7->analytics-python>=1.2.9->bamboolib) (2.7)\n",
      "Requirement already satisfied: urllib3<1.25,>=1.21.1 in /home/ec2-user/anaconda3/envs/JupyterSystemEnv/lib/python3.6/site-packages (from requests<3.0,>=2.7->analytics-python>=1.2.9->bamboolib) (1.22)\n",
      "Requirement already satisfied: certifi>=2017.4.17 in /home/ec2-user/anaconda3/envs/JupyterSystemEnv/lib/python3.6/site-packages (from requests<3.0,>=2.7->analytics-python>=1.2.9->bamboolib) (2019.11.28)\n",
      "Requirement already satisfied: chardet<3.1.0,>=3.0.2 in /home/ec2-user/anaconda3/envs/JupyterSystemEnv/lib/python3.6/site-packages (from requests<3.0,>=2.7->analytics-python>=1.2.9->bamboolib) (3.0.4)\n",
      "Requirement already satisfied: pygments in /home/ec2-user/anaconda3/envs/JupyterSystemEnv/lib/python3.6/site-packages (from nbconvert->notebook>=5.3.0->bamboolib) (2.4.2)\n",
      "Requirement already satisfied: pandocfilters>=1.4.1 in /home/ec2-user/anaconda3/envs/JupyterSystemEnv/lib/python3.6/site-packages (from nbconvert->notebook>=5.3.0->bamboolib) (1.4.2)\n",
      "Requirement already satisfied: testpath in /home/ec2-user/anaconda3/envs/JupyterSystemEnv/lib/python3.6/site-packages (from nbconvert->notebook>=5.3.0->bamboolib) (0.4.2)\n",
      "Requirement already satisfied: mistune<2,>=0.8.1 in /home/ec2-user/anaconda3/envs/JupyterSystemEnv/lib/python3.6/site-packages (from nbconvert->notebook>=5.3.0->bamboolib) (0.8.4)\n",
      "Requirement already satisfied: entrypoints>=0.2.2 in /home/ec2-user/anaconda3/envs/JupyterSystemEnv/lib/python3.6/site-packages (from nbconvert->notebook>=5.3.0->bamboolib) (0.3)\n",
      "Requirement already satisfied: bleach in /home/ec2-user/anaconda3/envs/JupyterSystemEnv/lib/python3.6/site-packages (from nbconvert->notebook>=5.3.0->bamboolib) (3.1.0)\n",
      "Requirement already satisfied: defusedxml in /home/ec2-user/anaconda3/envs/JupyterSystemEnv/lib/python3.6/site-packages (from nbconvert->notebook>=5.3.0->bamboolib) (0.6.0)\n",
      "Requirement already satisfied: MarkupSafe>=0.23 in /home/ec2-user/anaconda3/envs/JupyterSystemEnv/lib/python3.6/site-packages (from jinja2->notebook>=5.3.0->bamboolib) (1.1.1)\n",
      "Requirement already satisfied: jsonschema!=2.5.0,>=2.4 in /home/ec2-user/anaconda3/envs/JupyterSystemEnv/lib/python3.6/site-packages (from nbformat->notebook>=5.3.0->bamboolib) (2.6.0)\n",
      "Requirement already satisfied: decorator in /home/ec2-user/anaconda3/envs/JupyterSystemEnv/lib/python3.6/site-packages (from traitlets>=4.2.1->notebook>=5.3.0->bamboolib) (4.4.1)\n",
      "Requirement already satisfied: pexpect; sys_platform != \"win32\" in /home/ec2-user/anaconda3/envs/JupyterSystemEnv/lib/python3.6/site-packages (from ipython>=4.0.0; python_version >= \"3.3\"->ipywidgets>=7.0.0->bamboolib) (4.7.0)\n",
      "Requirement already satisfied: jedi>=0.10 in /home/ec2-user/anaconda3/envs/JupyterSystemEnv/lib/python3.6/site-packages (from ipython>=4.0.0; python_version >= \"3.3\"->ipywidgets>=7.0.0->bamboolib) (0.15.1)\n",
      "Requirement already satisfied: setuptools>=18.5 in /home/ec2-user/anaconda3/envs/JupyterSystemEnv/lib/python3.6/site-packages (from ipython>=4.0.0; python_version >= \"3.3\"->ipywidgets>=7.0.0->bamboolib) (41.6.0.post20191030)\n",
      "Requirement already satisfied: pickleshare in /home/ec2-user/anaconda3/envs/JupyterSystemEnv/lib/python3.6/site-packages (from ipython>=4.0.0; python_version >= \"3.3\"->ipywidgets>=7.0.0->bamboolib) (0.7.5)\n",
      "Requirement already satisfied: backcall in /home/ec2-user/anaconda3/envs/JupyterSystemEnv/lib/python3.6/site-packages (from ipython>=4.0.0; python_version >= \"3.3\"->ipywidgets>=7.0.0->bamboolib) (0.1.0)\n",
      "Requirement already satisfied: prompt-toolkit<2.1.0,>=2.0.0 in /home/ec2-user/anaconda3/envs/JupyterSystemEnv/lib/python3.6/site-packages (from ipython>=4.0.0; python_version >= \"3.3\"->ipywidgets>=7.0.0->bamboolib) (2.0.10)\n",
      "Requirement already satisfied: pycparser in /home/ec2-user/anaconda3/envs/JupyterSystemEnv/lib/python3.6/site-packages (from cffi!=1.11.3,>=1.8->cryptography>=2.6.1->bamboolib) (2.19)\n",
      "Requirement already satisfied: json5 in /home/ec2-user/anaconda3/envs/JupyterSystemEnv/lib/python3.6/site-packages (from jupyterlab-server~=1.0.0->jupyterlab>=1.0->bamboolib) (0.8.5)\n",
      "Requirement already satisfied: webencodings in /home/ec2-user/anaconda3/envs/JupyterSystemEnv/lib/python3.6/site-packages (from bleach->nbconvert->notebook>=5.3.0->bamboolib) (0.5.1)\n",
      "Requirement already satisfied: ptyprocess>=0.5 in /home/ec2-user/anaconda3/envs/JupyterSystemEnv/lib/python3.6/site-packages (from pexpect; sys_platform != \"win32\"->ipython>=4.0.0; python_version >= \"3.3\"->ipywidgets>=7.0.0->bamboolib) (0.6.0)\n",
      "Requirement already satisfied: parso>=0.5.0 in /home/ec2-user/anaconda3/envs/JupyterSystemEnv/lib/python3.6/site-packages (from jedi>=0.10->ipython>=4.0.0; python_version >= \"3.3\"->ipywidgets>=7.0.0->bamboolib) (0.5.1)\n",
      "Requirement already satisfied: wcwidth in /home/ec2-user/anaconda3/envs/JupyterSystemEnv/lib/python3.6/site-packages (from prompt-toolkit<2.1.0,>=2.0.0->ipython>=4.0.0; python_version >= \"3.3\"->ipywidgets>=7.0.0->bamboolib) (0.1.7)\n",
      "Building jupyterlab assets (build:prod:minimize)\n",
      "Enabling notebook extension qgrid/extension...\n",
      "      - Validating: \u001b[32mOK\u001b[0m\n",
      "Enabling notebook extension jupyter-js-widgets/extension...\n",
      "      - Validating: \u001b[32mOK\u001b[0m\n",
      "Installing /home/ec2-user/anaconda3/envs/JupyterSystemEnv/lib/python3.6/site-packages/bamboolib/static -> bamboolib\n",
      "Up to date: /home/ec2-user/anaconda3/envs/JupyterSystemEnv/share/jupyter/nbextensions/bamboolib/index.js.map\n",
      "Up to date: /home/ec2-user/anaconda3/envs/JupyterSystemEnv/share/jupyter/nbextensions/bamboolib/index.js\n",
      "Up to date: /home/ec2-user/anaconda3/envs/JupyterSystemEnv/share/jupyter/nbextensions/bamboolib/extension.js\n",
      "- Validating: \u001b[32mOK\u001b[0m\n",
      "\n",
      "    To initialize this nbextension in the browser every time the notebook (or other app) loads:\n",
      "    \n",
      "          jupyter nbextension enable bamboolib --py --sys-prefix\n",
      "    \n",
      "Enabling notebook extension bamboolib/extension...\n",
      "      - Validating: \u001b[32mOK\u001b[0m\n",
      "[LabBuildApp] JupyterLab 1.2.3\n",
      "[LabBuildApp] Building in /home/ec2-user/anaconda3/envs/JupyterSystemEnv/share/jupyter/lab\n",
      "[LabBuildApp] Building jupyterlab assets (build:prod)\n"
     ]
    }
   ],
   "source": [
    "!pip install bamboolib\n",
    "!jupyter labextension install @jupyter-widgets/jupyterlab-manager@1.1\n",
    "!jupyter nbextension enable --py qgrid --sys-prefix\n",
    "!jupyter nbextension enable --py widgetsnbextension --sys-prefix\n",
    "!jupyter nbextension install --py bamboolib --sys-prefix\n",
    "!jupyter nbextension enable --py bamboolib --sys-prefix\n",
    "!jupyter labextension install @8080labs/qgrid@1.1.1 --no-build\n",
    "!jupyter labextension install plotlywidget --no-build\n",
    "!jupyter labextension install jupyterlab-plotly --no-build\n",
    "!jupyter labextension install bamboolib --no-build\n",
    "\n",
    "# This step may take a while\n",
    "!jupyter lab build --minimize=False"
   ]
  },
  {
   "cell_type": "code",
   "execution_count": 2,
   "metadata": {},
   "outputs": [
    {
     "name": "stdout",
     "output_type": "stream",
     "text": [
      "JupyterLab v1.2.3\n",
      "Known labextensions:\n",
      "   app dir: /home/ec2-user/anaconda3/envs/JupyterSystemEnv/share/jupyter/lab\n",
      "        @8080labs/qgrid v1.1.1 \u001b[32m enabled \u001b[0m \u001b[32mOK\u001b[0m\n",
      "        @jupyter-widgets/jupyterlab-manager v1.1.0 \u001b[32m enabled \u001b[0m \u001b[32mOK\u001b[0m\n",
      "        @jupyterlab/celltags v0.2.0 \u001b[32m enabled \u001b[0m \u001b[32mOK\u001b[0m\n",
      "        @jupyterlab/git v0.9.0 \u001b[32m enabled \u001b[0m \u001b[32mOK\u001b[0m\n",
      "        @jupyterlab/toc v2.0.0-rc.0 \u001b[32m enabled \u001b[0m \u001b[32mOK\u001b[0m\n",
      "        bamboolib v1.1.0 \u001b[32m enabled \u001b[0m \u001b[32mOK\u001b[0m\n",
      "        jupyterlab-plotly v1.4.0 \u001b[32m enabled \u001b[0m \u001b[32mOK\u001b[0m\n",
      "        nbdime-jupyterlab v1.0.0 \u001b[32m enabled \u001b[0m \u001b[32mOK\u001b[0m\n",
      "        plotlywidget v1.4.0 \u001b[32m enabled \u001b[0m \u001b[32mOK\u001b[0m\n",
      "        sagemaker_examples v0.1.0 \u001b[32m enabled \u001b[0m \u001b[32mOK\u001b[0m\n",
      "        sagemaker_session_manager v0.1.0 \u001b[32m enabled \u001b[0m \u001b[32mOK\u001b[0m\n"
     ]
    }
   ],
   "source": [
    "!jupyter labextension list"
   ]
  },
  {
   "cell_type": "code",
   "execution_count": 3,
   "metadata": {},
   "outputs": [
    {
     "data": {
      "application/vnd.jupyter.widget-view+json": {
       "model_id": "f78a10ddced14807b37c0a1b9e2641f8",
       "version_major": 2,
       "version_minor": 0
      },
      "text/plain": [
       "VBox(children=(HTML(value='<div style=\"color:#004085;background-color:#cce5ff;border-color:#b8daff;position: r…"
      ]
     },
     "metadata": {},
     "output_type": "display_data"
    }
   ],
   "source": [
    "import bamboolib as bam\n",
    "import pandas as pd\n",
    "df = pd.read_csv(bam.titanic_csv)\n",
    "bam.show(df)"
   ]
  },
  {
   "cell_type": "code",
   "execution_count": 4,
   "metadata": {},
   "outputs": [
    {
     "ename": "SyntaxError",
     "evalue": "invalid syntax (<ipython-input-4-aa3869950bb9>, line 1)",
     "output_type": "error",
     "traceback": [
      "\u001b[0;36m  File \u001b[0;32m\"<ipython-input-4-aa3869950bb9>\"\u001b[0;36m, line \u001b[0;32m1\u001b[0m\n\u001b[0;31m    jupyter notebook --version\u001b[0m\n\u001b[0m                   ^\u001b[0m\n\u001b[0;31mSyntaxError\u001b[0m\u001b[0;31m:\u001b[0m invalid syntax\n"
     ]
    }
   ],
   "source": [
    "jupyter notebook --version"
   ]
  },
  {
   "cell_type": "code",
   "execution_count": null,
   "metadata": {},
   "outputs": [],
   "source": []
  }
 ],
 "metadata": {
  "kernelspec": {
   "display_name": "conda_pytorch_p36",
   "language": "python",
   "name": "conda_pytorch_p36"
  },
  "language_info": {
   "codemirror_mode": {
    "name": "ipython",
    "version": 3
   },
   "file_extension": ".py",
   "mimetype": "text/x-python",
   "name": "python",
   "nbconvert_exporter": "python",
   "pygments_lexer": "ipython3",
   "version": "3.6.5"
  }
 },
 "nbformat": 4,
 "nbformat_minor": 4
}
