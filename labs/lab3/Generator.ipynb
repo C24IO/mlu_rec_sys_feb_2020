{
 "cells": [
  {
   "cell_type": "code",
   "execution_count": 1,
   "metadata": {},
   "outputs": [
    {
     "name": "stdout",
     "output_type": "stream",
     "text": [
      "Collecting config\n",
      "  Using cached https://files.pythonhosted.org/packages/59/6c/4ab0d80b22dca3baab49670b75ae2183b59649e9f27c11018075e509048e/config-0.4.2.tar.gz\n",
      "Collecting type\n",
      "\u001b[31m  Could not find a version that satisfies the requirement type (from versions: )\u001b[0m\n",
      "\u001b[31mNo matching distribution found for type\u001b[0m\n",
      "\u001b[33mYou are using pip version 10.0.1, however version 19.3.1 is available.\n",
      "You should consider upgrading via the 'pip install --upgrade pip' command.\u001b[0m\n",
      "Requirement already satisfied: transitions in /home/ec2-user/anaconda3/envs/pytorch_p36/lib/python3.6/site-packages (0.7.1)\n",
      "Requirement already satisfied: six in /home/ec2-user/anaconda3/envs/pytorch_p36/lib/python3.6/site-packages (from transitions) (1.11.0)\n",
      "\u001b[31mfastai 1.0.59 requires nvidia-ml-py3, which is not installed.\u001b[0m\n",
      "\u001b[31mjupyterlab-server 1.0.6 has requirement jsonschema>=3.0.1, but you'll have jsonschema 2.6.0 which is incompatible.\u001b[0m\n",
      "\u001b[33mYou are using pip version 10.0.1, however version 19.3.1 is available.\n",
      "You should consider upgrading via the 'pip install --upgrade pip' command.\u001b[0m\n"
     ]
    }
   ],
   "source": [
    "!pip install config type\n",
    "!pip install transitions"
   ]
  },
  {
   "cell_type": "code",
   "execution_count": 2,
   "metadata": {},
   "outputs": [],
   "source": [
    "import numpy as np\n",
    "import pandas as pd\n",
    "import json\n",
    "import datetime\n",
    "import matplotlib.pyplot as plt\n",
    "from sklearn.utils import shuffle\n",
    "import uuid\n",
    "import os\n",
    "from os import path\n",
    "from glob import glob\n",
    "import json\n",
    "import re\n",
    "import pickle\n",
    "import argparse\n",
    "\n",
    "import numpy as np\n",
    "from textwrap import wrap\n",
    "from scipy import ndimage, misc\n",
    "\n",
    "#import config\n",
    "#from type import RecipeContainer, DataContainer\n",
    "#from utils import url_to_filename\n",
    "\n",
    "# import matplotlib using agg backend\n",
    "import matplotlib as mpl\n",
    "mpl.use('Agg')\n",
    "import matplotlib.pyplot as plt"
   ]
  },
  {
   "cell_type": "code",
   "execution_count": null,
   "metadata": {},
   "outputs": [],
   "source": []
  },
  {
   "cell_type": "code",
   "execution_count": 3,
   "metadata": {},
   "outputs": [
    {
     "name": "stdout",
     "output_type": "stream",
     "text": [
      "sagemaker-us-east-1-111652037296\n"
     ]
    }
   ],
   "source": [
    "import boto3\n",
    "import sagemaker\n",
    "\n",
    "bucket   = sagemaker.Session().default_bucket() # or replace with your preferred s3 bucket\n",
    "print(bucket)\n",
    "prefix   = 'w/tty'"
   ]
  },
  {
   "cell_type": "code",
   "execution_count": 4,
   "metadata": {},
   "outputs": [],
   "source": [
    "users_filename        = 'users.csv'\n",
    "interactions_filename = 'interactions.csv'\n",
    "int_exp_filename      = 'interactions_expanded.csv'"
   ]
  },
  {
   "cell_type": "code",
   "execution_count": 5,
   "metadata": {},
   "outputs": [],
   "source": [
    "NUM_INTERACTIONS = 750000\n",
    "NUM_USERS        = 30000"
   ]
  },
  {
   "cell_type": "code",
   "execution_count": 6,
   "metadata": {},
   "outputs": [],
   "source": [
    "SESSION_LEN           = 10\n",
    "SESSION_DELAY_SECONDS = 2 * 60 # 2 minutes\n",
    "\n",
    "NUM_SESSIONS = NUM_INTERACTIONS // SESSION_LEN\n",
    "\n",
    "SECONDS_SINCE_OLDEST_INTERACTION = 60* 60 * 24 * 7 # a week ago\n",
    "MOST_RECENT_TIMESTAMP = round(datetime.datetime.now().timestamp())"
   ]
  },
  {
   "cell_type": "code",
   "execution_count": 7,
   "metadata": {},
   "outputs": [],
   "source": [
    "def date_to_string(ts):\n",
    "    return datetime.datetime.fromtimestamp(ts).strftime('%Y-%m-%d %H:%M:%S')"
   ]
  },
  {
   "cell_type": "code",
   "execution_count": 8,
   "metadata": {},
   "outputs": [
    {
     "name": "stdout",
     "output_type": "stream",
     "text": [
      "(100, 3)\n"
     ]
    },
    {
     "data": {
      "text/html": [
       "<div>\n",
       "<style scoped>\n",
       "    .dataframe tbody tr th:only-of-type {\n",
       "        vertical-align: middle;\n",
       "    }\n",
       "\n",
       "    .dataframe tbody tr th {\n",
       "        vertical-align: top;\n",
       "    }\n",
       "\n",
       "    .dataframe thead th {\n",
       "        text-align: right;\n",
       "    }\n",
       "</style>\n",
       "<table border=\"1\" class=\"dataframe\">\n",
       "  <thead>\n",
       "    <tr style=\"text-align: right;\">\n",
       "      <th></th>\n",
       "      <th>ZIP_CODE</th>\n",
       "      <th>CITY</th>\n",
       "      <th>INCOME</th>\n",
       "    </tr>\n",
       "  </thead>\n",
       "  <tbody>\n",
       "    <tr>\n",
       "      <th>0</th>\n",
       "      <td>79936</td>\n",
       "      <td>El Paso TX</td>\n",
       "      <td>42857</td>\n",
       "    </tr>\n",
       "    <tr>\n",
       "      <th>1</th>\n",
       "      <td>90011</td>\n",
       "      <td>Los Angeles CA</td>\n",
       "      <td>23851</td>\n",
       "    </tr>\n",
       "    <tr>\n",
       "      <th>2</th>\n",
       "      <td>60629</td>\n",
       "      <td>Chicago IL</td>\n",
       "      <td>40279</td>\n",
       "    </tr>\n",
       "    <tr>\n",
       "      <th>3</th>\n",
       "      <td>90650</td>\n",
       "      <td>Norwalk CA</td>\n",
       "      <td>46012</td>\n",
       "    </tr>\n",
       "    <tr>\n",
       "      <th>4</th>\n",
       "      <td>90201</td>\n",
       "      <td>Bell Gardens CA</td>\n",
       "      <td>30029</td>\n",
       "    </tr>\n",
       "  </tbody>\n",
       "</table>\n",
       "</div>"
      ],
      "text/plain": [
       "   ZIP_CODE             CITY  INCOME\n",
       "0     79936       El Paso TX   42857\n",
       "1     90011   Los Angeles CA   23851\n",
       "2     60629       Chicago IL   40279\n",
       "3     90650       Norwalk CA   46012\n",
       "4     90201  Bell Gardens CA   30029"
      ]
     },
     "execution_count": 8,
     "metadata": {},
     "output_type": "execute_result"
    }
   ],
   "source": [
    "zip_codes_df = pd.read_csv('zip_codes.csv')\n",
    "print(zip_codes_df.shape)\n",
    "zip_codes_df.head()"
   ]
  },
  {
   "cell_type": "code",
   "execution_count": 9,
   "metadata": {},
   "outputs": [],
   "source": [
    "def gen_users(num_users):\n",
    "    _users = []\n",
    "    \n",
    "    _zip_len = zip_codes_df.shape[0]\n",
    "    \n",
    "    for i in range(num_users):\n",
    "        _age        = int(np.random.normal(40, 4))\n",
    "        _gender_idx = np.random.randint(0, 2)\n",
    "        _loc_idx    = np.random.randint(0, _zip_len)\n",
    "        if _gender_idx == 0:\n",
    "            _gender = 'MALE'\n",
    "        else:\n",
    "            _gender = 'FEMALE'\n",
    "            \n",
    "        _this_user = [str(i), _age, _gender, \n",
    "                      str(zip_codes_df.iloc[_loc_idx][0]), \n",
    "                      zip_codes_df.iloc[_loc_idx][2]]\n",
    "        \n",
    "        _users.append(_this_user)\n",
    "        \n",
    "    _df = pd.DataFrame(_users, columns=['USER_ID', 'AGE', 'GENDER', 'LOCATION', 'SALARY'])\n",
    "    return _df"
   ]
  },
  {
   "cell_type": "code",
   "execution_count": 10,
   "metadata": {},
   "outputs": [
    {
     "name": "stdout",
     "output_type": "stream",
     "text": [
      "(30000, 5)\n"
     ]
    },
    {
     "data": {
      "text/html": [
       "<div>\n",
       "<style scoped>\n",
       "    .dataframe tbody tr th:only-of-type {\n",
       "        vertical-align: middle;\n",
       "    }\n",
       "\n",
       "    .dataframe tbody tr th {\n",
       "        vertical-align: top;\n",
       "    }\n",
       "\n",
       "    .dataframe thead th {\n",
       "        text-align: right;\n",
       "    }\n",
       "</style>\n",
       "<table border=\"1\" class=\"dataframe\">\n",
       "  <thead>\n",
       "    <tr style=\"text-align: right;\">\n",
       "      <th></th>\n",
       "      <th>USER_ID</th>\n",
       "      <th>AGE</th>\n",
       "      <th>GENDER</th>\n",
       "      <th>LOCATION</th>\n",
       "      <th>SALARY</th>\n",
       "    </tr>\n",
       "  </thead>\n",
       "  <tbody>\n",
       "    <tr>\n",
       "      <th>0</th>\n",
       "      <td>0</td>\n",
       "      <td>46</td>\n",
       "      <td>MALE</td>\n",
       "      <td>11373</td>\n",
       "      <td>38151</td>\n",
       "    </tr>\n",
       "    <tr>\n",
       "      <th>1</th>\n",
       "      <td>1</td>\n",
       "      <td>40</td>\n",
       "      <td>FEMALE</td>\n",
       "      <td>78572</td>\n",
       "      <td>23799</td>\n",
       "    </tr>\n",
       "    <tr>\n",
       "      <th>2</th>\n",
       "      <td>2</td>\n",
       "      <td>38</td>\n",
       "      <td>MALE</td>\n",
       "      <td>60618</td>\n",
       "      <td>41355</td>\n",
       "    </tr>\n",
       "    <tr>\n",
       "      <th>3</th>\n",
       "      <td>3</td>\n",
       "      <td>35</td>\n",
       "      <td>MALE</td>\n",
       "      <td>79912</td>\n",
       "      <td>48627</td>\n",
       "    </tr>\n",
       "    <tr>\n",
       "      <th>4</th>\n",
       "      <td>4</td>\n",
       "      <td>38</td>\n",
       "      <td>MALE</td>\n",
       "      <td>93033</td>\n",
       "      <td>46342</td>\n",
       "    </tr>\n",
       "  </tbody>\n",
       "</table>\n",
       "</div>"
      ],
      "text/plain": [
       "  USER_ID  AGE  GENDER LOCATION  SALARY\n",
       "0       0   46    MALE    11373   38151\n",
       "1       1   40  FEMALE    78572   23799\n",
       "2       2   38    MALE    60618   41355\n",
       "3       3   35    MALE    79912   48627\n",
       "4       4   38    MALE    93033   46342"
      ]
     },
     "execution_count": 10,
     "metadata": {},
     "output_type": "execute_result"
    }
   ],
   "source": [
    "users_df = gen_users(NUM_USERS)\n",
    "print(users_df.shape)\n",
    "users_df.head()"
   ]
  },
  {
   "cell_type": "code",
   "execution_count": 11,
   "metadata": {},
   "outputs": [
    {
     "data": {
      "text/plain": [
       "<matplotlib.axes._subplots.AxesSubplot at 0x7fc1fad235c0>"
      ]
     },
     "execution_count": 11,
     "metadata": {},
     "output_type": "execute_result"
    },
    {
     "data": {
      "image/png": "[encoded data removed]",
      "text/plain": [
       "<Figure size 432x288 with 1 Axes>"
      ]
     },
     "metadata": {},
     "output_type": "display_data"
    }
   ],
   "source": [
    "users_df['AGE'].hist()"
   ]
  },
  {
   "cell_type": "code",
   "execution_count": 12,
   "metadata": {},
   "outputs": [
    {
     "data": {
      "text/plain": [
       "90280    337\n",
       "23464    333\n",
       "91709    331\n",
       "92704    329\n",
       "37013    327\n",
       "95823    326\n",
       "10025    325\n",
       "10453    324\n",
       "91910    324\n",
       "11206    323\n",
       "Name: LOCATION, dtype: int64"
      ]
     },
     "execution_count": 12,
     "metadata": {},
     "output_type": "execute_result"
    }
   ],
   "source": [
    "users_df['LOCATION'].value_counts()[0:10]"
   ]
  },
  {
   "cell_type": "code",
   "execution_count": 13,
   "metadata": {},
   "outputs": [
    {
     "data": {
      "text/plain": [
       "<matplotlib.axes._subplots.AxesSubplot at 0x7fc1fb78a438>"
      ]
     },
     "execution_count": 13,
     "metadata": {},
     "output_type": "execute_result"
    },
    {
     "data": {
      "image/png": "[encoded data removed]",
      "text/plain": [
       "<Figure size 432x288 with 1 Axes>"
      ]
     },
     "metadata": {},
     "output_type": "display_data"
    }
   ],
   "source": [
    "users_df['SALARY'].hist()"
   ]
  },
  {
   "cell_type": "code",
   "execution_count": 14,
   "metadata": {},
   "outputs": [],
   "source": [
    "def load_recipe(filename):\n",
    "    \"\"\"Load a single recipe collection from disk.\"\"\"\n",
    "    with open(filename, 'r') as f:\n",
    "        recipes = json.load(f)\n",
    "    print('Loaded {:,} recipes from {}'.format(len(recipes), filename))\n",
    "    return recipes"
   ]
  },
  {
   "cell_type": "code",
   "execution_count": 15,
   "metadata": {},
   "outputs": [
    {
     "name": "stdout",
     "output_type": "stream",
     "text": [
      "Loaded 39,802 recipes from recipes/recipes_raw_nosource_ar.json\n"
     ]
    }
   ],
   "source": [
    "recipe = load_recipe('recipes/recipes_raw_nosource_ar.json')"
   ]
  },
  {
   "cell_type": "code",
   "execution_count": 16,
   "metadata": {},
   "outputs": [
    {
     "name": "stdout",
     "output_type": "stream",
     "text": [
      "\"rmK12Uau.ntP510KeImX506H6Mr6jTu\"\n",
      "\"5ZpZE8hSVdPk2ZXo1mZTyoPWJRSCPSm\"\n",
      "\"clyYQv.CplpwJtjNaFGhx0VilNYqRxu\"\n",
      "\"BmqFAmCrDHiKNwX.IQzb0U/v0mLlxFu\"\n",
      "\"N.jCksRjB4MFwbgPFQU8Kg.yF.XCtOi\"\n",
      "\"kq.naD.8G19M4UU9dVvJgHtpfo.l/eC\"\n",
      "\"lYrgWNn00EXblOupzM3tL0jGr9O0CB2\"\n",
      "\"Fu0DgGYFUGwc0BBlN6r20o/ihOVs5bO\"\n",
      "\"MBRNtqELRRuv8zJH4k7Aba2bmIc2A3C\"\n",
      "\"ZPyPoMiNvgAfrKcRpH9FEYV/XsPZBsW\"\n",
      "\"ATMxl11LFhuvTbTi9.kX4nhYE50HeJ.\"\n"
     ]
    }
   ],
   "source": [
    "i = 0\n",
    "for key, value in recipe.items():\n",
    "    print(json.dumps(key, indent=4))\n",
    "    i += 1\n",
    "    if (i>10):\n",
    "        break"
   ]
  },
  {
   "cell_type": "code",
   "execution_count": 17,
   "metadata": {},
   "outputs": [
    {
     "data": {
      "text/html": [
       "<div>\n",
       "<style scoped>\n",
       "    .dataframe tbody tr th:only-of-type {\n",
       "        vertical-align: middle;\n",
       "    }\n",
       "\n",
       "    .dataframe tbody tr th {\n",
       "        vertical-align: top;\n",
       "    }\n",
       "\n",
       "    .dataframe thead th {\n",
       "        text-align: right;\n",
       "    }\n",
       "</style>\n",
       "<table border=\"1\" class=\"dataframe\">\n",
       "  <thead>\n",
       "    <tr style=\"text-align: right;\">\n",
       "      <th></th>\n",
       "      <th>USER_ID</th>\n",
       "      <th>AGE</th>\n",
       "      <th>GENDER</th>\n",
       "      <th>LOCATION</th>\n",
       "      <th>SALARY</th>\n",
       "    </tr>\n",
       "  </thead>\n",
       "  <tbody>\n",
       "    <tr>\n",
       "      <th>0</th>\n",
       "      <td>0</td>\n",
       "      <td>46</td>\n",
       "      <td>MALE</td>\n",
       "      <td>11373</td>\n",
       "      <td>38151</td>\n",
       "    </tr>\n",
       "    <tr>\n",
       "      <th>1</th>\n",
       "      <td>1</td>\n",
       "      <td>40</td>\n",
       "      <td>FEMALE</td>\n",
       "      <td>78572</td>\n",
       "      <td>23799</td>\n",
       "    </tr>\n",
       "    <tr>\n",
       "      <th>2</th>\n",
       "      <td>2</td>\n",
       "      <td>38</td>\n",
       "      <td>MALE</td>\n",
       "      <td>60618</td>\n",
       "      <td>41355</td>\n",
       "    </tr>\n",
       "    <tr>\n",
       "      <th>3</th>\n",
       "      <td>3</td>\n",
       "      <td>35</td>\n",
       "      <td>MALE</td>\n",
       "      <td>79912</td>\n",
       "      <td>48627</td>\n",
       "    </tr>\n",
       "    <tr>\n",
       "      <th>4</th>\n",
       "      <td>4</td>\n",
       "      <td>38</td>\n",
       "      <td>MALE</td>\n",
       "      <td>93033</td>\n",
       "      <td>46342</td>\n",
       "    </tr>\n",
       "  </tbody>\n",
       "</table>\n",
       "</div>"
      ],
      "text/plain": [
       "  USER_ID  AGE  GENDER LOCATION  SALARY\n",
       "0       0   46    MALE    11373   38151\n",
       "1       1   40  FEMALE    78572   23799\n",
       "2       2   38    MALE    60618   41355\n",
       "3       3   35    MALE    79912   48627\n",
       "4       4   38    MALE    93033   46342"
      ]
     },
     "execution_count": 17,
     "metadata": {},
     "output_type": "execute_result"
    }
   ],
   "source": [
    "users_df.head()"
   ]
  },
  {
   "cell_type": "code",
   "execution_count": 18,
   "metadata": {},
   "outputs": [
    {
     "name": "stdout",
     "output_type": "stream",
     "text": [
      "439\n"
     ]
    }
   ],
   "source": [
    "dil = users_df.sample(n=1)['USER_ID'].values[0]\n",
    "print(dil)"
   ]
  },
  {
   "cell_type": "code",
   "execution_count": 19,
   "metadata": {},
   "outputs": [
    {
     "data": {
      "text/plain": [
       "\"\\n\\n_session_len = SESSION_LEN\\nnum_interactions = NUM_INTERACTIONS \\n_num_sessions = num_interactions // _session_len\\n\\nSECONDS_SINCE_OLDEST_INTERACTION = 60* 60 * 24 * 7 # a week ago\\nMOST_RECENT_TIMESTAMP = round(datetime.datetime.now().timestamp())\\n\\n_most_recent_time = MOST_RECENT_TIMESTAMP - (60 * 60 * 2) - ((SESSION_LEN + 1) * SESSION_DELAY_SECONDS)\\n_oldest_time      = _most_recent_time - SECONDS_SINCE_OLDEST_INTERACTION\\n    \\nprint('Oldest session starts: {}, Newest: {}'.format(date_to_string(_oldest_time),\\n                                                         date_to_string(_most_recent_time)))\\n                                                         \\n\""
      ]
     },
     "execution_count": 19,
     "metadata": {},
     "output_type": "execute_result"
    }
   ],
   "source": [
    "\"\"\"\n",
    "\n",
    "_session_len = SESSION_LEN\n",
    "num_interactions = NUM_INTERACTIONS \n",
    "_num_sessions = num_interactions // _session_len\n",
    "\n",
    "SECONDS_SINCE_OLDEST_INTERACTION = 60* 60 * 24 * 7 # a week ago\n",
    "MOST_RECENT_TIMESTAMP = round(datetime.datetime.now().timestamp())\n",
    "\n",
    "_most_recent_time = MOST_RECENT_TIMESTAMP - (60 * 60 * 2) - ((SESSION_LEN + 1) * SESSION_DELAY_SECONDS)\n",
    "_oldest_time      = _most_recent_time - SECONDS_SINCE_OLDEST_INTERACTION\n",
    "    \n",
    "print('Oldest session starts: {}, Newest: {}'.format(date_to_string(_oldest_time),\n",
    "                                                         date_to_string(_most_recent_time)))\n",
    "                                                         \n",
    "\"\"\"                                                         "
   ]
  },
  {
   "cell_type": "code",
   "execution_count": 20,
   "metadata": {},
   "outputs": [
    {
     "data": {
      "text/plain": [
       "\"\\n\\ni = 0\\ns = uuid.uuid1().int>>64        \\n_interactions = []\\nuser_in_interaction = 1\\n\\nfor key, value in recipe.items():\\n\\n    _item = key\\n    #print(json.dumps(key, indent=4))\\n    \\n    i += 1\\n    \\n    _user = users_df.iloc[i]['USER_ID']\\n    #print(users_df.iloc[i]['USER_ID'])\\n    \\n    _when = np.random.randint(_oldest_time, _most_recent_time)\\n    #print(np.random.randint(_oldest_time, _most_recent_time))\\n    \\n    if (i % 5 == 0):\\n        s = uuid.uuid1().int>>64        \\n        user_in_interaction = str(_user)\\n        \\n    _this_interaction = [user_in_interaction, str(_item), _when, s]\\n    #print(_this_interaction)\\n    \\n    _interactions.append(_this_interaction)\\n    \\n    if (i>5000):\\n        break\\n        \\n_df = pd.DataFrame(_interactions, columns=['USER_ID', 'ITEM_ID', 'TIMESTAMP', 'SESSION_ID'])      \\n\""
      ]
     },
     "execution_count": 20,
     "metadata": {},
     "output_type": "execute_result"
    }
   ],
   "source": [
    "\"\"\"\n",
    "\n",
    "i = 0\n",
    "s = uuid.uuid1().int>>64        \n",
    "_interactions = []\n",
    "user_in_interaction = 1\n",
    "\n",
    "for key, value in recipe.items():\n",
    "\n",
    "    _item = key\n",
    "    #print(json.dumps(key, indent=4))\n",
    "    \n",
    "    i += 1\n",
    "    \n",
    "    _user = users_df.iloc[i]['USER_ID']\n",
    "    #print(users_df.iloc[i]['USER_ID'])\n",
    "    \n",
    "    _when = np.random.randint(_oldest_time, _most_recent_time)\n",
    "    #print(np.random.randint(_oldest_time, _most_recent_time))\n",
    "    \n",
    "    if (i % 5 == 0):\n",
    "        s = uuid.uuid1().int>>64        \n",
    "        user_in_interaction = str(_user)\n",
    "        \n",
    "    _this_interaction = [user_in_interaction, str(_item), _when, s]\n",
    "    #print(_this_interaction)\n",
    "    \n",
    "    _interactions.append(_this_interaction)\n",
    "    \n",
    "    if (i>5000):\n",
    "        break\n",
    "        \n",
    "_df = pd.DataFrame(_interactions, columns=['USER_ID', 'ITEM_ID', 'TIMESTAMP', 'SESSION_ID'])      \n",
    "\"\"\""
   ]
  },
  {
   "cell_type": "code",
   "execution_count": 21,
   "metadata": {},
   "outputs": [
    {
     "data": {
      "text/plain": [
       "dict_items"
      ]
     },
     "execution_count": 21,
     "metadata": {},
     "output_type": "execute_result"
    }
   ],
   "source": [
    "type(recipe.items())"
   ]
  },
  {
   "cell_type": "code",
   "execution_count": 22,
   "metadata": {},
   "outputs": [],
   "source": [
    "import random, datetime, transitions, uuid\n",
    "from transitions import MachineError\n",
    "import datetime\n",
    "\n",
    "i = 0\n",
    "s = uuid.uuid1().int>>64        \n",
    "\n",
    "'''\n",
    "0 - 'dislike' - Left swipe (Interaction = disliked)\n",
    "10 - 'open' - Opened (Interaction = opened activity)\n",
    "20 - 'sharedf' - Shared with friend (Interaction = shared with friend)\n",
    "30 - 'like' - Right swipe (Interaction = liked)\n",
    "40 - 'sharedt' - Shared on timeline (Interaction = shared on timeline)\n",
    "50 - 'sharede' - Shared on external (Interaction = shared on external)\n",
    "60 - 'addc' - Added content (Interaction = added content)\n",
    "70 - 'addposcom' - Added positive comment\n",
    "80 - 'activityc' - Children activity created (Interaction = children activity created)\n",
    "90 - 'purchased' - Purchased (Interaction = purchased)\n",
    "100 - 'done' - Done (Interaction = Done, Performed)\n",
    "'''\n",
    "\n",
    "# SM1  open --> like --> done\n",
    "# SM2  open --> like --> purchased --> done\n",
    "# SM3  open --> dislike\n",
    "# SM4  open --> like --> done --> sharedf\n",
    "# SM5  open --> like --> done --> sharedf --> sharede\n",
    "# SM6  open --> like --> done --> sharedf --> sharede --> addposcom\n",
    "# SM7  open --> like --> purchased --> done --> sharedf --> sharede --> addposcom \n",
    "\n",
    "from transitions import Machine\n",
    "import random\n",
    "\n",
    "#SM7  open --> like --> purchased --> done --> sharedf --> sharede --> addposcom \n",
    "class SM(object):\n",
    "    pass\n",
    "# The states\n",
    "# And some transitions between states. We're lazy, so we'll leave out\n",
    "# the inverse phase transitions (freezing, condensation, etc.).\n",
    "states=['dislike', 'open', 'sharedf', 'like', 'sharedt', 'sharede', 'addc', 'addposcom', 'activityc', 'purchased', 'done']\n",
    "\n",
    "sm7 = SM()\n",
    "transitions = [\n",
    "    { 'trigger': 'next', 'source': 'open', 'dest': 'like' },\n",
    "    { 'trigger': 'next', 'source': 'like', 'dest': 'purchased' },\n",
    "    { 'trigger': 'next', 'source': 'purchased', 'dest': 'done' },\n",
    "    { 'trigger': 'next', 'source': 'done', 'dest': 'sharedf' },\n",
    "    { 'trigger': 'next', 'source': 'sharedf', 'dest': 'sharede' },\n",
    "    { 'trigger': 'next', 'source': 'sharede', 'dest': 'addposcom' },\n",
    "    { 'trigger': 'reset', 'source': '*', 'dest': 'open' }\n",
    "]\n",
    "# Initialize\n",
    "m7 = Machine(sm7, states=states, transitions=transitions, initial='open', ignore_invalid_triggers=False)\n",
    "\n",
    "# SM1  open --> like --> done\n",
    "\n",
    "sm1 = SM()\n",
    "transitions = [\n",
    "    { 'trigger': 'next', 'source': 'open', 'dest': 'like' },\n",
    "    { 'trigger': 'next', 'source': 'like', 'dest': 'done' },\n",
    "    { 'trigger': 'reset', 'source': '*', 'dest': 'open' }\n",
    "]\n",
    "# Initialize\n",
    "m1 = Machine(sm1, states=states, transitions=transitions, initial='open', ignore_invalid_triggers=False)\n",
    "\n",
    "\n",
    "# SM2  open --> like --> purchased --> done << TODO DSL \n",
    "sm2 = SM()\n",
    "transitions = [\n",
    "    { 'trigger': 'next', 'source': 'open', 'dest': 'like' },\n",
    "    { 'trigger': 'next', 'source': 'like', 'dest': 'purchased' },\n",
    "    { 'trigger': 'next', 'source': 'purchased', 'dest': 'done' },\n",
    "    { 'trigger': 'reset', 'source': '*', 'dest': 'open' }\n",
    "]\n",
    "# Initialize\n",
    "m2 = Machine(sm2, states=states, transitions=transitions, initial='open', ignore_invalid_triggers=False)\n",
    "\n",
    "# SM3  open --> dislike\n",
    "sm3 = SM()\n",
    "transitions = [\n",
    "    { 'trigger': 'next', 'source': 'open', 'dest': 'dislike' },\n",
    "    { 'trigger': 'reset', 'source': '*', 'dest': 'open' }\n",
    "]\n",
    "# Initialize\n",
    "m3 = Machine(sm3, states=states, transitions=transitions, initial='open', ignore_invalid_triggers=False)\n",
    "\n",
    "# SM4  open --> like --> done --> sharedf\n",
    "sm4 = SM()\n",
    "transitions = [\n",
    "    { 'trigger': 'next', 'source': 'open', 'dest': 'like' },\n",
    "    { 'trigger': 'next', 'source': 'like', 'dest': 'done' },\n",
    "    { 'trigger': 'next', 'source': 'done', 'dest': 'sharedf' },\n",
    "    { 'trigger': 'reset', 'source': '*', 'dest': 'open' }\n",
    "]\n",
    "# Initialize\n",
    "m4 = Machine(sm4, states=states, transitions=transitions, initial='open', ignore_invalid_triggers=False)\n",
    "\n",
    "# SM5  open --> like --> done --> sharedf --> sharede\n",
    "sm5 = SM()\n",
    "transitions = [\n",
    "    { 'trigger': 'next', 'source': 'open', 'dest': 'like' },\n",
    "    { 'trigger': 'next', 'source': 'like', 'dest': 'done' },\n",
    "    { 'trigger': 'next', 'source': 'done', 'dest': 'sharedf' },\n",
    "    { 'trigger': 'next', 'source': 'sharedf', 'dest': 'sharede' },\n",
    "    { 'trigger': 'reset', 'source': '*', 'dest': 'open' }\n",
    "]\n",
    "# Initialize\n",
    "m5 = Machine(sm5, states=states, transitions=transitions, initial='open', ignore_invalid_triggers=False)\n",
    "\n",
    "# SM6  open --> like --> done --> sharedf --> sharede --> addposcom\n",
    "sm6 = SM()\n",
    "transitions = [\n",
    "    { 'trigger': 'next', 'source': 'open', 'dest': 'like' },\n",
    "    { 'trigger': 'next', 'source': 'like', 'dest': 'done' },    \n",
    "    { 'trigger': 'next', 'source': 'done', 'dest': 'sharedf' },\n",
    "    { 'trigger': 'next', 'source': 'sharedf', 'dest': 'addposcom' },\n",
    "    { 'trigger': 'reset', 'source': '*', 'dest': 'open' }\n",
    "]\n",
    "# Initialize\n",
    "m6 = Machine(sm6, states=states, transitions=transitions, initial='open', ignore_invalid_triggers=False)\n",
    "\n",
    "# VALUES columns=['USER_ID', 'ITEM_ID', 'EVENT_TYPE',' EVENT_VALUE', 'TIMESTAMP']\n",
    "\n",
    "user_actions = {\n",
    "    \"dislike\":\"0\",\n",
    "    \"open\":\"10\",\n",
    "    \"sharedf\":\"20\",\n",
    "    \"like\":\"30\",\n",
    "    \"sharedt\":\"40\",\n",
    "    \"sharede\":\"50\",\n",
    "    \"addc\":\"60\",\n",
    "    \"addposcom\":\"70\",\n",
    "    \"activityc\":\"80\",\n",
    "    \"purchased\":\"90\",\n",
    "    \"done\":\"100\"\n",
    "}\n",
    "\n",
    "sm_tuple = [sm1, sm2, sm3, sm4, sm5, sm6, sm7]\n",
    "_interactions = []\n",
    "\n",
    "for i in range(1, 20000): #Each user users_df.size - use this\n",
    "#for key, value in recipe.items():\n",
    "    #_item = key\n",
    "    # Here with sample, we are taking 1 random sample\n",
    "    user_id = users_df.sample(n=1)['USER_ID'].values[0]\n",
    "    user_action = random.choice(list(user_actions))\n",
    "    item_id = random.choice(list(recipe.items()))[0]\n",
    "    \n",
    "    if(i % 5 == 0): #how many parallel sessions? if its 5 then 5 sessions\n",
    "        session_start_time = (datetime.datetime.now() + datetime.timedelta(minutes=random.randint(1,600))).timestamp()\n",
    "    \n",
    "    #State machine loop\n",
    "    #Select random State Machine \n",
    "    \n",
    "    selected_sm = sm_tuple[random.randrange(len(sm_tuple))]\n",
    "    timestep_sm = random.randint(1,600)    \n",
    "    selected_sm.reset()\n",
    "\n",
    "    while True: \n",
    "        try:\n",
    "            interaction_time_stamp = round((datetime.datetime.now() + datetime.timedelta(minutes=timestep_sm)).timestamp())\n",
    "            #columns=['USER_ID', 'ITEM_ID', 'EVENT_TYPE',' EVENT_VALUE', 'TIMESTAMP']\n",
    "            #print('{}, {}, {}, {}, {}'.format(user_id, item_id, selected_sm.state, user_actions[selected_sm.state], interaction_time_stamp))\n",
    "            _this_interaction = [user_id, item_id, selected_sm.state, user_actions[selected_sm.state], interaction_time_stamp]\n",
    "            #_this_interaction = [user_id, item_id, interaction_time_stamp]\n",
    "            \n",
    "            #print(_this_interaction)\n",
    "            \n",
    "            _interactions.append(_this_interaction)\n",
    "            #choice = random.choice(list(recipe.items()))\n",
    "            #print(choice[0])\n",
    "            timestep_sm = timestep_sm + random.randint(1,600)\n",
    "            selected_sm.next()\n",
    "        except MachineError as e:\n",
    "            #print('endstate')\n",
    "            break\n",
    "        else:\n",
    "            continue            \n",
    "            \n",
    "_df = pd.DataFrame(_interactions, columns=['USER_ID', 'ITEM_ID', 'EVENT_TYPE', 'EVENT_VALUE', 'TIMESTAMP'])\n",
    "#_df = pd.DataFrame(_interactions, columns=['USER_ID', 'ITEM_ID', 'TIMESTAMP'])            "
   ]
  },
  {
   "cell_type": "code",
   "execution_count": 23,
   "metadata": {},
   "outputs": [
    {
     "data": {
      "text/plain": [
       "13943355192344252906"
      ]
     },
     "execution_count": 23,
     "metadata": {},
     "output_type": "execute_result"
    }
   ],
   "source": [
    "s"
   ]
  },
  {
   "cell_type": "code",
   "execution_count": 24,
   "metadata": {},
   "outputs": [
    {
     "data": {
      "text/html": [
       "<div>\n",
       "<style scoped>\n",
       "    .dataframe tbody tr th:only-of-type {\n",
       "        vertical-align: middle;\n",
       "    }\n",
       "\n",
       "    .dataframe tbody tr th {\n",
       "        vertical-align: top;\n",
       "    }\n",
       "\n",
       "    .dataframe thead th {\n",
       "        text-align: right;\n",
       "    }\n",
       "</style>\n",
       "<table border=\"1\" class=\"dataframe\">\n",
       "  <thead>\n",
       "    <tr style=\"text-align: right;\">\n",
       "      <th></th>\n",
       "      <th>USER_ID</th>\n",
       "      <th>ITEM_ID</th>\n",
       "      <th>EVENT_TYPE</th>\n",
       "      <th>EVENT_VALUE</th>\n",
       "      <th>TIMESTAMP</th>\n",
       "    </tr>\n",
       "  </thead>\n",
       "  <tbody>\n",
       "    <tr>\n",
       "      <th>0</th>\n",
       "      <td>2915</td>\n",
       "      <td>aFu4TE6d6f6R2dcfG4CABpa50hbdW3u</td>\n",
       "      <td>open</td>\n",
       "      <td>10</td>\n",
       "      <td>1576613611</td>\n",
       "    </tr>\n",
       "    <tr>\n",
       "      <th>1</th>\n",
       "      <td>2915</td>\n",
       "      <td>aFu4TE6d6f6R2dcfG4CABpa50hbdW3u</td>\n",
       "      <td>dislike</td>\n",
       "      <td>0</td>\n",
       "      <td>1576616311</td>\n",
       "    </tr>\n",
       "    <tr>\n",
       "      <th>2</th>\n",
       "      <td>24771</td>\n",
       "      <td>v0BLTva9ceGdOELD4UdC0gsKGZXGn5m</td>\n",
       "      <td>open</td>\n",
       "      <td>10</td>\n",
       "      <td>1576605571</td>\n",
       "    </tr>\n",
       "    <tr>\n",
       "      <th>3</th>\n",
       "      <td>24771</td>\n",
       "      <td>v0BLTva9ceGdOELD4UdC0gsKGZXGn5m</td>\n",
       "      <td>dislike</td>\n",
       "      <td>0</td>\n",
       "      <td>1576630711</td>\n",
       "    </tr>\n",
       "    <tr>\n",
       "      <th>4</th>\n",
       "      <td>29741</td>\n",
       "      <td>luKxU73rtr0lKwcST2bX/Hfby8ozqGq</td>\n",
       "      <td>open</td>\n",
       "      <td>10</td>\n",
       "      <td>1576593451</td>\n",
       "    </tr>\n",
       "  </tbody>\n",
       "</table>\n",
       "</div>"
      ],
      "text/plain": [
       "  USER_ID                          ITEM_ID EVENT_TYPE EVENT_VALUE   TIMESTAMP\n",
       "0    2915  aFu4TE6d6f6R2dcfG4CABpa50hbdW3u       open          10  1576613611\n",
       "1    2915  aFu4TE6d6f6R2dcfG4CABpa50hbdW3u    dislike           0  1576616311\n",
       "2   24771  v0BLTva9ceGdOELD4UdC0gsKGZXGn5m       open          10  1576605571\n",
       "3   24771  v0BLTva9ceGdOELD4UdC0gsKGZXGn5m    dislike           0  1576630711\n",
       "4   29741  luKxU73rtr0lKwcST2bX/Hfby8ozqGq       open          10  1576593451"
      ]
     },
     "execution_count": 24,
     "metadata": {},
     "output_type": "execute_result"
    }
   ],
   "source": [
    "_df.head()"
   ]
  },
  {
   "cell_type": "code",
   "execution_count": 25,
   "metadata": {},
   "outputs": [
    {
     "data": {
      "text/plain": [
       "429795"
      ]
     },
     "execution_count": 25,
     "metadata": {},
     "output_type": "execute_result"
    }
   ],
   "source": [
    "_df.size"
   ]
  },
  {
   "cell_type": "code",
   "execution_count": 26,
   "metadata": {},
   "outputs": [],
   "source": [
    "#_df.isnull()"
   ]
  },
  {
   "cell_type": "code",
   "execution_count": 27,
   "metadata": {},
   "outputs": [],
   "source": [
    "import boto3\n",
    "\n",
    "import json\n",
    "import numpy as np\n",
    "import pandas as pd\n",
    "import time\n",
    "\n",
    "personalize = boto3.client('personalize')\n",
    "personalize_runtime = boto3.client('personalize-runtime')\n",
    "\n",
    "suffix = str(np.random.uniform())[4:9]"
   ]
  },
  {
   "cell_type": "code",
   "execution_count": 28,
   "metadata": {},
   "outputs": [],
   "source": [
    "bucket = \"wtty-\" + str(suffix)       # replace with the name of your S3 bucket\n",
    "filename = \"generated_data.csv\""
   ]
  },
  {
   "cell_type": "code",
   "execution_count": 29,
   "metadata": {},
   "outputs": [],
   "source": [
    "_df.to_csv(filename, index=False)"
   ]
  },
  {
   "cell_type": "code",
   "execution_count": 30,
   "metadata": {},
   "outputs": [
    {
     "data": {
      "text/plain": [
       "{'ResponseMetadata': {'RequestId': '759EC17B6FAEEB26',\n",
       "  'HostId': '7b6Cb01Cle8ezjmIMM7KskyhxCSPKzqgtdJDWHr9GaPM3ecutL87VNNh4Mer7YvAHVuLaKLUZeo=',\n",
       "  'HTTPStatusCode': 200,\n",
       "  'HTTPHeaders': {'x-amz-id-2': '7b6Cb01Cle8ezjmIMM7KskyhxCSPKzqgtdJDWHr9GaPM3ecutL87VNNh4Mer7YvAHVuLaKLUZeo=',\n",
       "   'x-amz-request-id': '759EC17B6FAEEB26',\n",
       "   'date': 'Tue, 17 Dec 2019 12:35:41 GMT',\n",
       "   'location': '/wtty-82058',\n",
       "   'content-length': '0',\n",
       "   'server': 'AmazonS3'},\n",
       "  'RetryAttempts': 0},\n",
       " 'Location': '/wtty-82058'}"
      ]
     },
     "execution_count": 30,
     "metadata": {},
     "output_type": "execute_result"
    }
   ],
   "source": [
    "s3 = boto3.client('s3')\n",
    "s3.create_bucket(Bucket=bucket)"
   ]
  },
  {
   "cell_type": "code",
   "execution_count": 31,
   "metadata": {},
   "outputs": [],
   "source": [
    "boto3.Session().resource('s3').Bucket(bucket).Object(filename).upload_file(filename)"
   ]
  },
  {
   "cell_type": "code",
   "execution_count": 32,
   "metadata": {},
   "outputs": [
    {
     "name": "stdout",
     "output_type": "stream",
     "text": [
      "{\n",
      "  \"schemaArn\": \"arn:aws:personalize:us-east-1:111652037296:schema/wtty-schema-82058\",\n",
      "  \"ResponseMetadata\": {\n",
      "    \"RequestId\": \"daa61c5c-96f9-4aab-a0af-8fdc9739c534\",\n",
      "    \"HTTPStatusCode\": 200,\n",
      "    \"HTTPHeaders\": {\n",
      "      \"content-type\": \"application/x-amz-json-1.1\",\n",
      "      \"date\": \"Tue, 17 Dec 2019 12:35:40 GMT\",\n",
      "      \"x-amzn-requestid\": \"daa61c5c-96f9-4aab-a0af-8fdc9739c534\",\n",
      "      \"content-length\": \"83\",\n",
      "      \"connection\": \"keep-alive\"\n",
      "    },\n",
      "    \"RetryAttempts\": 0\n",
      "  }\n",
      "}\n"
     ]
    }
   ],
   "source": [
    "schema = {\n",
    "    \"type\": \"record\",\n",
    "    \"name\": \"Interactions\",\n",
    "    \"namespace\": \"com.amazonaws.personalize.schema\",\n",
    "    \"fields\": [\n",
    "        {\n",
    "            \"name\": \"USER_ID\",\n",
    "            \"type\": \"string\"\n",
    "        },\n",
    "        {\n",
    "            \"name\": \"ITEM_ID\",\n",
    "            \"type\": \"string\"\n",
    "        },\n",
    "        {\n",
    "            \"name\": \"EVENT_TYPE\",\n",
    "            \"type\": \"string\"\n",
    "        },\n",
    "        {\n",
    "            \"name\": \"EVENT_VALUE\",\n",
    "            \"type\": \"float\"\n",
    "        },\n",
    "\n",
    "        {\n",
    "            \"name\": \"TIMESTAMP\",\n",
    "            \"type\": \"long\"\n",
    "        }\n",
    "    ],\n",
    "    \"version\": \"1.0\"\n",
    "}\n",
    "\n",
    "create_schema_response = personalize.create_schema(\n",
    "    name = \"wtty-schema\" + \"-\" + str(suffix) ,\n",
    "    schema = json.dumps(schema)\n",
    ")\n",
    "\n",
    "schema_arn = create_schema_response['schemaArn']\n",
    "print(json.dumps(create_schema_response, indent=2))"
   ]
  },
  {
   "cell_type": "code",
   "execution_count": 33,
   "metadata": {},
   "outputs": [
    {
     "name": "stdout",
     "output_type": "stream",
     "text": [
      "{\n",
      "  \"datasetGroupArn\": \"arn:aws:personalize:us-east-1:111652037296:dataset-group/wtty-dataset-group-82058\",\n",
      "  \"ResponseMetadata\": {\n",
      "    \"RequestId\": \"817f9c80-7d1b-42da-b154-67ad50ef502e\",\n",
      "    \"HTTPStatusCode\": 200,\n",
      "    \"HTTPHeaders\": {\n",
      "      \"content-type\": \"application/x-amz-json-1.1\",\n",
      "      \"date\": \"Tue, 17 Dec 2019 12:35:40 GMT\",\n",
      "      \"x-amzn-requestid\": \"817f9c80-7d1b-42da-b154-67ad50ef502e\",\n",
      "      \"content-length\": \"103\",\n",
      "      \"connection\": \"keep-alive\"\n",
      "    },\n",
      "    \"RetryAttempts\": 0\n",
      "  }\n",
      "}\n"
     ]
    }
   ],
   "source": [
    "create_dataset_group_response = personalize.create_dataset_group(\n",
    "    name = \"wtty-dataset-group\"  + \"-\" + str(suffix)\n",
    ")\n",
    "\n",
    "dataset_group_arn = create_dataset_group_response['datasetGroupArn']\n",
    "print(json.dumps(create_dataset_group_response, indent=2))"
   ]
  },
  {
   "cell_type": "code",
   "execution_count": 34,
   "metadata": {},
   "outputs": [
    {
     "name": "stdout",
     "output_type": "stream",
     "text": [
      "DatasetGroup: CREATE PENDING\n",
      "DatasetGroup: ACTIVE\n"
     ]
    }
   ],
   "source": [
    "max_time = time.time() + 3*60*60 # 3 hours\n",
    "while time.time() < max_time:\n",
    "    describe_dataset_group_response = personalize.describe_dataset_group(\n",
    "        datasetGroupArn = dataset_group_arn\n",
    "    )\n",
    "    status = describe_dataset_group_response[\"datasetGroup\"][\"status\"]\n",
    "    print(\"DatasetGroup: {}\".format(status))\n",
    "    \n",
    "    if status == \"ACTIVE\" or status == \"CREATE FAILED\":\n",
    "        break\n",
    "        \n",
    "    time.sleep(60)"
   ]
  },
  {
   "cell_type": "code",
   "execution_count": 35,
   "metadata": {},
   "outputs": [
    {
     "name": "stdout",
     "output_type": "stream",
     "text": [
      "-82058\n"
     ]
    }
   ],
   "source": [
    "print(\"-\" + str(suffix))"
   ]
  },
  {
   "cell_type": "code",
   "execution_count": 36,
   "metadata": {},
   "outputs": [
    {
     "name": "stdout",
     "output_type": "stream",
     "text": [
      "{\n",
      "  \"datasetArn\": \"arn:aws:personalize:us-east-1:111652037296:dataset/wtty-dataset-group-82058/INTERACTIONS\",\n",
      "  \"ResponseMetadata\": {\n",
      "    \"RequestId\": \"633d50c1-30d2-495d-aef3-e7980c413e60\",\n",
      "    \"HTTPStatusCode\": 200,\n",
      "    \"HTTPHeaders\": {\n",
      "      \"content-type\": \"application/x-amz-json-1.1\",\n",
      "      \"date\": \"Tue, 17 Dec 2019 12:36:40 GMT\",\n",
      "      \"x-amzn-requestid\": \"633d50c1-30d2-495d-aef3-e7980c413e60\",\n",
      "      \"content-length\": \"105\",\n",
      "      \"connection\": \"keep-alive\"\n",
      "    },\n",
      "    \"RetryAttempts\": 0\n",
      "  }\n",
      "}\n"
     ]
    }
   ],
   "source": [
    "dataset_type = \"INTERACTIONS\"\n",
    "create_dataset_response = personalize.create_dataset(\n",
    "    name = \"wtty-dataset\"  + \"-\" + str(suffix),\n",
    "    datasetType = dataset_type,\n",
    "    datasetGroupArn = dataset_group_arn,\n",
    "    schemaArn = schema_arn\n",
    ")\n",
    "\n",
    "dataset_arn = create_dataset_response['datasetArn']\n",
    "print(json.dumps(create_dataset_response, indent=2))"
   ]
  },
  {
   "cell_type": "code",
   "execution_count": 37,
   "metadata": {},
   "outputs": [
    {
     "data": {
      "text/plain": [
       "{'ResponseMetadata': {'RequestId': '1642616FE8155AA6',\n",
       "  'HostId': 'fpodOm5fn3h0I46CLXBbsydJVinLmvZtPoLzcKWu942qC+7x45icUJyEAwiuXAVAVnuukfB5R+A=',\n",
       "  'HTTPStatusCode': 204,\n",
       "  'HTTPHeaders': {'x-amz-id-2': 'fpodOm5fn3h0I46CLXBbsydJVinLmvZtPoLzcKWu942qC+7x45icUJyEAwiuXAVAVnuukfB5R+A=',\n",
       "   'x-amz-request-id': '1642616FE8155AA6',\n",
       "   'date': 'Tue, 17 Dec 2019 12:36:42 GMT',\n",
       "   'server': 'AmazonS3'},\n",
       "  'RetryAttempts': 0}}"
      ]
     },
     "execution_count": 37,
     "metadata": {},
     "output_type": "execute_result"
    }
   ],
   "source": [
    "s3 = boto3.client(\"s3\")\n",
    "\n",
    "policy = {\n",
    "    \"Version\": \"2012-10-17\",\n",
    "    \"Id\": \"PersonalizeS3BucketAccessPolicy\",\n",
    "    \"Statement\": [\n",
    "        {\n",
    "            \"Sid\": \"PersonalizeS3BucketAccessPolicy\",\n",
    "            \"Effect\": \"Allow\",\n",
    "            \"Principal\": {\n",
    "                \"Service\": \"personalize.amazonaws.com\"\n",
    "            },\n",
    "            \"Action\": [\n",
    "                \"s3:GetObject\",\n",
    "                \"s3:ListBucket\"\n",
    "            ],\n",
    "            \"Resource\": [\n",
    "                \"arn:aws:s3:::{}\".format(bucket),\n",
    "                \"arn:aws:s3:::{}/*\".format(bucket)\n",
    "            ]\n",
    "        }\n",
    "    ]\n",
    "}\n",
    "\n",
    "s3.put_bucket_policy(Bucket=bucket, Policy=json.dumps(policy))"
   ]
  },
  {
   "cell_type": "code",
   "execution_count": 38,
   "metadata": {},
   "outputs": [
    {
     "name": "stdout",
     "output_type": "stream",
     "text": [
      "arn:aws:iam::111652037296:role/WttyPersonalizeRole\n"
     ]
    }
   ],
   "source": [
    "iam = boto3.client(\"iam\")\n",
    "\n",
    "role_name = \"WttyPersonalizeRole\"\n",
    "assume_role_policy_document = {\n",
    "    \"Version\": \"2012-10-17\",\n",
    "    \"Statement\": [\n",
    "        {\n",
    "          \"Effect\": \"Allow\",\n",
    "          \"Principal\": {\n",
    "            \"Service\": \"personalize.amazonaws.com\"\n",
    "          },\n",
    "          \"Action\": \"sts:AssumeRole\"\n",
    "        }\n",
    "    ]\n",
    "}\n",
    "\n",
    "#create_role_response = iam.create_role(\n",
    "#    RoleName = role_name,\n",
    "#    AssumeRolePolicyDocument = json.dumps(assume_role_policy_document)\n",
    "#)\n",
    "\n",
    "# AmazonPersonalizeFullAccess provides access to any S3 bucket with a name that includes \"personalize\" or \"Personalize\" \n",
    "# if you would like to use a bucket with a different name, please consider creating and attaching a new policy\n",
    "# that provides read access to your bucket or attaching the AmazonS3ReadOnlyAccess policy to the role\n",
    "#policy_arn = \"arn:aws:iam::aws:policy/service-role/AmazonPersonalizeFullAccess\"\n",
    "#iam.attach_role_policy(\n",
    "#    RoleName = role_name,\n",
    "#    PolicyArn = policy_arn\n",
    "#)\n",
    "\n",
    "#time.sleep(60) # wait for a minute to allow IAM role policy attachment to propagate\n",
    "\n",
    "#role_arn = create_role_response[\"Role\"][\"Arn\"]\n",
    "role_arn = \"arn:aws:iam::111652037296:role/WttyPersonalizeRole\"\n",
    "print(role_arn)"
   ]
  },
  {
   "cell_type": "code",
   "execution_count": 39,
   "metadata": {},
   "outputs": [
    {
     "name": "stdout",
     "output_type": "stream",
     "text": [
      "{\n",
      "  \"datasetImportJobArn\": \"arn:aws:personalize:us-east-1:111652037296:dataset-import-job/wtty-dataset-import-job-82058\",\n",
      "  \"ResponseMetadata\": {\n",
      "    \"RequestId\": \"43773601-39f3-4f3c-bfbf-686e99e8c9eb\",\n",
      "    \"HTTPStatusCode\": 200,\n",
      "    \"HTTPHeaders\": {\n",
      "      \"content-type\": \"application/x-amz-json-1.1\",\n",
      "      \"date\": \"Tue, 17 Dec 2019 12:36:40 GMT\",\n",
      "      \"x-amzn-requestid\": \"43773601-39f3-4f3c-bfbf-686e99e8c9eb\",\n",
      "      \"content-length\": \"117\",\n",
      "      \"connection\": \"keep-alive\"\n",
      "    },\n",
      "    \"RetryAttempts\": 0\n",
      "  }\n",
      "}\n"
     ]
    }
   ],
   "source": [
    "create_dataset_import_job_response = personalize.create_dataset_import_job(\n",
    "    jobName = \"wtty-dataset-import-job\" + \"-\" + str(suffix),\n",
    "    datasetArn = dataset_arn,\n",
    "    dataSource = {\n",
    "        \"dataLocation\": \"s3://{}/{}\".format(bucket, filename)\n",
    "    },\n",
    "    roleArn = role_arn\n",
    ")\n",
    "\n",
    "dataset_import_job_arn = create_dataset_import_job_response['datasetImportJobArn']\n",
    "print(json.dumps(create_dataset_import_job_response, indent=2))"
   ]
  },
  {
   "cell_type": "code",
   "execution_count": null,
   "metadata": {},
   "outputs": [],
   "source": [
    "max_time = time.time() + 3*60*60 # 3 hours\n",
    "while time.time() < max_time:\n",
    "    describe_dataset_import_job_response = personalize.describe_dataset_import_job(\n",
    "        datasetImportJobArn = dataset_import_job_arn\n",
    "    )\n",
    "    status = describe_dataset_import_job_response[\"datasetImportJob\"]['status']\n",
    "    print(\"DatasetImportJob: {}\".format(status))\n",
    "    \n",
    "    if status == \"ACTIVE\" or status == \"CREATE FAILED\":\n",
    "        break\n",
    "        \n",
    "    time.sleep(10)"
   ]
  },
  {
   "cell_type": "code",
   "execution_count": 40,
   "metadata": {},
   "outputs": [
    {
     "data": {
      "text/plain": [
       "{'recipes': [{'name': 'aws-hrnn',\n",
       "   'recipeArn': 'arn:aws:personalize:::recipe/aws-hrnn',\n",
       "   'status': 'ACTIVE',\n",
       "   'creationDateTime': datetime.datetime(2019, 6, 10, 0, 0, tzinfo=tzlocal()),\n",
       "   'lastUpdatedDateTime': datetime.datetime(2019, 6, 20, 0, 39, 17, 65000, tzinfo=tzlocal())},\n",
       "  {'name': 'aws-hrnn-coldstart',\n",
       "   'recipeArn': 'arn:aws:personalize:::recipe/aws-hrnn-coldstart',\n",
       "   'status': 'ACTIVE',\n",
       "   'creationDateTime': datetime.datetime(2019, 6, 10, 0, 0, tzinfo=tzlocal()),\n",
       "   'lastUpdatedDateTime': datetime.datetime(2019, 6, 20, 0, 39, 17, 64000, tzinfo=tzlocal())},\n",
       "  {'name': 'aws-hrnn-metadata',\n",
       "   'recipeArn': 'arn:aws:personalize:::recipe/aws-hrnn-metadata',\n",
       "   'status': 'ACTIVE',\n",
       "   'creationDateTime': datetime.datetime(2019, 6, 10, 0, 0, tzinfo=tzlocal()),\n",
       "   'lastUpdatedDateTime': datetime.datetime(2019, 6, 20, 0, 39, 17, 64000, tzinfo=tzlocal())},\n",
       "  {'name': 'aws-personalized-ranking',\n",
       "   'recipeArn': 'arn:aws:personalize:::recipe/aws-personalized-ranking',\n",
       "   'status': 'ACTIVE',\n",
       "   'creationDateTime': datetime.datetime(2019, 6, 10, 0, 0, tzinfo=tzlocal()),\n",
       "   'lastUpdatedDateTime': datetime.datetime(2019, 6, 20, 0, 39, 17, 65000, tzinfo=tzlocal())},\n",
       "  {'name': 'aws-popularity-count',\n",
       "   'recipeArn': 'arn:aws:personalize:::recipe/aws-popularity-count',\n",
       "   'status': 'ACTIVE',\n",
       "   'creationDateTime': datetime.datetime(2019, 6, 10, 0, 0, tzinfo=tzlocal()),\n",
       "   'lastUpdatedDateTime': datetime.datetime(2019, 6, 20, 0, 39, 17, 65000, tzinfo=tzlocal())},\n",
       "  {'name': 'aws-sims',\n",
       "   'recipeArn': 'arn:aws:personalize:::recipe/aws-sims',\n",
       "   'status': 'ACTIVE',\n",
       "   'creationDateTime': datetime.datetime(2019, 6, 10, 0, 0, tzinfo=tzlocal()),\n",
       "   'lastUpdatedDateTime': datetime.datetime(2019, 6, 20, 0, 39, 17, 64000, tzinfo=tzlocal())}],\n",
       " 'ResponseMetadata': {'RequestId': 'e19f164c-6425-4475-953b-2d013d2cf79b',\n",
       "  'HTTPStatusCode': 200,\n",
       "  'HTTPHeaders': {'content-type': 'application/x-amz-json-1.1',\n",
       "   'date': 'Tue, 17 Dec 2019 12:36:41 GMT',\n",
       "   'x-amzn-requestid': 'e19f164c-6425-4475-953b-2d013d2cf79b',\n",
       "   'content-length': '1067',\n",
       "   'connection': 'keep-alive'},\n",
       "  'RetryAttempts': 0}}"
      ]
     },
     "execution_count": 40,
     "metadata": {},
     "output_type": "execute_result"
    }
   ],
   "source": [
    "list_recipes_response = personalize.list_recipes()\n",
    "recipe_arn = \"arn:aws:personalize:::recipe/aws-hrnn\" # aws-hrnn selected for demo purposes\n",
    "list_recipes_response"
   ]
  },
  {
   "cell_type": "code",
   "execution_count": 42,
   "metadata": {},
   "outputs": [
    {
     "name": "stdout",
     "output_type": "stream",
     "text": [
      "{\n",
      "  \"solutionArn\": \"arn:aws:personalize:us-east-1:111652037296:solution/wtty-solution-82058\",\n",
      "  \"ResponseMetadata\": {\n",
      "    \"RequestId\": \"0f0d2d59-dbbe-4227-a634-00e2d9d9b947\",\n",
      "    \"HTTPStatusCode\": 200,\n",
      "    \"HTTPHeaders\": {\n",
      "      \"content-type\": \"application/x-amz-json-1.1\",\n",
      "      \"date\": \"Tue, 17 Dec 2019 14:38:40 GMT\",\n",
      "      \"x-amzn-requestid\": \"0f0d2d59-dbbe-4227-a634-00e2d9d9b947\",\n",
      "      \"content-length\": \"89\",\n",
      "      \"connection\": \"keep-alive\"\n",
      "    },\n",
      "    \"RetryAttempts\": 0\n",
      "  }\n",
      "}\n"
     ]
    }
   ],
   "source": [
    "create_solution_response = personalize.create_solution(\n",
    "    name = \"wtty-solution\" + \"-\" + str(suffix),\n",
    "    datasetGroupArn = dataset_group_arn,\n",
    "    recipeArn = recipe_arn\n",
    ")\n",
    "\n",
    "solution_arn = create_solution_response['solutionArn']\n",
    "print(json.dumps(create_solution_response, indent=2))"
   ]
  },
  {
   "cell_type": "code",
   "execution_count": 43,
   "metadata": {},
   "outputs": [
    {
     "name": "stdout",
     "output_type": "stream",
     "text": [
      "{\n",
      "  \"solutionVersionArn\": \"arn:aws:personalize:us-east-1:111652037296:solution/wtty-solution-82058/feabb5cd\",\n",
      "  \"ResponseMetadata\": {\n",
      "    \"RequestId\": \"7f38f714-7fa2-433a-8161-8e54e07829e1\",\n",
      "    \"HTTPStatusCode\": 200,\n",
      "    \"HTTPHeaders\": {\n",
      "      \"content-type\": \"application/x-amz-json-1.1\",\n",
      "      \"date\": \"Tue, 17 Dec 2019 14:38:44 GMT\",\n",
      "      \"x-amzn-requestid\": \"7f38f714-7fa2-433a-8161-8e54e07829e1\",\n",
      "      \"content-length\": \"105\",\n",
      "      \"connection\": \"keep-alive\"\n",
      "    },\n",
      "    \"RetryAttempts\": 0\n",
      "  }\n",
      "}\n"
     ]
    }
   ],
   "source": [
    "create_solution_version_response = personalize.create_solution_version(\n",
    "    solutionArn = solution_arn\n",
    ")\n",
    "\n",
    "solution_version_arn = create_solution_version_response['solutionVersionArn']\n",
    "print(json.dumps(create_solution_version_response, indent=2))"
   ]
  },
  {
   "cell_type": "code",
   "execution_count": 44,
   "metadata": {},
   "outputs": [
    {
     "name": "stdout",
     "output_type": "stream",
     "text": [
      "SolutionVersion: CREATE PENDING\n",
      "SolutionVersion: CREATE IN_PROGRESS\n",
      "SolutionVersion: CREATE IN_PROGRESS\n",
      "SolutionVersion: CREATE IN_PROGRESS\n",
      "SolutionVersion: CREATE IN_PROGRESS\n",
      "SolutionVersion: CREATE IN_PROGRESS\n",
      "SolutionVersion: CREATE IN_PROGRESS\n",
      "SolutionVersion: CREATE IN_PROGRESS\n",
      "SolutionVersion: CREATE IN_PROGRESS\n",
      "SolutionVersion: CREATE IN_PROGRESS\n",
      "SolutionVersion: CREATE IN_PROGRESS\n",
      "SolutionVersion: CREATE IN_PROGRESS\n",
      "SolutionVersion: CREATE IN_PROGRESS\n",
      "SolutionVersion: CREATE IN_PROGRESS\n",
      "SolutionVersion: CREATE IN_PROGRESS\n",
      "SolutionVersion: CREATE IN_PROGRESS\n",
      "SolutionVersion: CREATE IN_PROGRESS\n",
      "SolutionVersion: CREATE IN_PROGRESS\n",
      "SolutionVersion: CREATE IN_PROGRESS\n",
      "SolutionVersion: CREATE IN_PROGRESS\n",
      "SolutionVersion: CREATE IN_PROGRESS\n",
      "SolutionVersion: CREATE IN_PROGRESS\n",
      "SolutionVersion: CREATE IN_PROGRESS\n",
      "SolutionVersion: CREATE IN_PROGRESS\n",
      "SolutionVersion: CREATE IN_PROGRESS\n",
      "SolutionVersion: CREATE IN_PROGRESS\n",
      "SolutionVersion: CREATE IN_PROGRESS\n",
      "SolutionVersion: CREATE IN_PROGRESS\n",
      "SolutionVersion: CREATE IN_PROGRESS\n",
      "SolutionVersion: CREATE IN_PROGRESS\n",
      "SolutionVersion: CREATE IN_PROGRESS\n",
      "SolutionVersion: CREATE IN_PROGRESS\n",
      "SolutionVersion: CREATE IN_PROGRESS\n",
      "SolutionVersion: CREATE IN_PROGRESS\n",
      "SolutionVersion: CREATE IN_PROGRESS\n",
      "SolutionVersion: CREATE IN_PROGRESS\n",
      "SolutionVersion: CREATE IN_PROGRESS\n",
      "SolutionVersion: CREATE IN_PROGRESS\n",
      "SolutionVersion: CREATE IN_PROGRESS\n",
      "SolutionVersion: CREATE IN_PROGRESS\n",
      "SolutionVersion: CREATE IN_PROGRESS\n",
      "SolutionVersion: CREATE IN_PROGRESS\n",
      "SolutionVersion: ACTIVE\n"
     ]
    }
   ],
   "source": [
    "max_time = time.time() + 3*60*60 # 3 hours\n",
    "while time.time() < max_time:\n",
    "    describe_solution_version_response = personalize.describe_solution_version(\n",
    "        solutionVersionArn = solution_version_arn\n",
    "    )\n",
    "    status = describe_solution_version_response[\"solutionVersion\"][\"status\"]\n",
    "    print(\"SolutionVersion: {}\".format(status))\n",
    "    \n",
    "    if status == \"ACTIVE\" or status == \"CREATE FAILED\":\n",
    "        break\n",
    "        \n",
    "    time.sleep(60)"
   ]
  },
  {
   "cell_type": "code",
   "execution_count": 45,
   "metadata": {},
   "outputs": [
    {
     "name": "stdout",
     "output_type": "stream",
     "text": [
      "{\n",
      "  \"solutionVersionArn\": \"arn:aws:personalize:us-east-1:111652037296:solution/wtty-solution-82058/feabb5cd\",\n",
      "  \"metrics\": {\n",
      "    \"coverage\": 0.0045,\n",
      "    \"mean_reciprocal_rank_at_25\": 0.0001,\n",
      "    \"normalized_discounted_cumulative_gain_at_10\": 0.0002,\n",
      "    \"normalized_discounted_cumulative_gain_at_25\": 0.0002,\n",
      "    \"normalized_discounted_cumulative_gain_at_5\": 0.0,\n",
      "    \"precision_at_10\": 0.0001,\n",
      "    \"precision_at_25\": 0.0,\n",
      "    \"precision_at_5\": 0.0\n",
      "  },\n",
      "  \"ResponseMetadata\": {\n",
      "    \"RequestId\": \"f88f53bd-2823-4db8-af10-e40b86bd0d27\",\n",
      "    \"HTTPStatusCode\": 200,\n",
      "    \"HTTPHeaders\": {\n",
      "      \"content-type\": \"application/x-amz-json-1.1\",\n",
      "      \"date\": \"Tue, 17 Dec 2019 15:33:48 GMT\",\n",
      "      \"x-amzn-requestid\": \"f88f53bd-2823-4db8-af10-e40b86bd0d27\",\n",
      "      \"content-length\": \"394\",\n",
      "      \"connection\": \"keep-alive\"\n",
      "    },\n",
      "    \"RetryAttempts\": 0\n",
      "  }\n",
      "}\n"
     ]
    }
   ],
   "source": [
    "get_solution_metrics_response = personalize.get_solution_metrics(\n",
    "    solutionVersionArn = solution_version_arn\n",
    ")\n",
    "\n",
    "print(json.dumps(get_solution_metrics_response, indent=2))"
   ]
  },
  {
   "cell_type": "code",
   "execution_count": 46,
   "metadata": {},
   "outputs": [
    {
     "name": "stdout",
     "output_type": "stream",
     "text": [
      "{\n",
      "  \"campaignArn\": \"arn:aws:personalize:us-east-1:111652037296:campaign/wtty-campaign-82058\",\n",
      "  \"ResponseMetadata\": {\n",
      "    \"RequestId\": \"d3f507ff-f744-4979-8a95-d668fe327e9c\",\n",
      "    \"HTTPStatusCode\": 200,\n",
      "    \"HTTPHeaders\": {\n",
      "      \"content-type\": \"application/x-amz-json-1.1\",\n",
      "      \"date\": \"Tue, 17 Dec 2019 15:33:51 GMT\",\n",
      "      \"x-amzn-requestid\": \"d3f507ff-f744-4979-8a95-d668fe327e9c\",\n",
      "      \"content-length\": \"89\",\n",
      "      \"connection\": \"keep-alive\"\n",
      "    },\n",
      "    \"RetryAttempts\": 0\n",
      "  }\n",
      "}\n"
     ]
    }
   ],
   "source": [
    "create_campaign_response = personalize.create_campaign(\n",
    "    name = \"wtty-campaign\" + \"-\" + str(suffix),\n",
    "    solutionVersionArn = solution_version_arn,\n",
    "    minProvisionedTPS = 1\n",
    ")\n",
    "\n",
    "campaign_arn = create_campaign_response['campaignArn']\n",
    "print(json.dumps(create_campaign_response, indent=2))"
   ]
  },
  {
   "cell_type": "code",
   "execution_count": null,
   "metadata": {},
   "outputs": [
    {
     "name": "stdout",
     "output_type": "stream",
     "text": [
      "Campaign: CREATE PENDING\n",
      "Campaign: CREATE IN_PROGRESS\n"
     ]
    }
   ],
   "source": [
    "max_time = time.time() + 3*60*60 # 3 hours\n",
    "while time.time() < max_time:\n",
    "    describe_campaign_response = personalize.describe_campaign(\n",
    "        campaignArn = campaign_arn\n",
    "    )\n",
    "    status = describe_campaign_response[\"campaign\"][\"status\"]\n",
    "    print(\"Campaign: {}\".format(status))\n",
    "    \n",
    "    if status == \"ACTIVE\" or status == \"CREATE FAILED\":\n",
    "        break\n",
    "        \n",
    "    time.sleep(60)"
   ]
  },
  {
   "cell_type": "code",
   "execution_count": null,
   "metadata": {},
   "outputs": [],
   "source": [
    "items = pd.read_csv('./ml-100k/u.item', sep='|', usecols=[0,1], encoding='latin-1')\n",
    "items.columns = ['ITEM_ID', 'TITLE']\n",
    "\n",
    "user_id, item_id, _ = data.sample().values[0]\n",
    "item_title = items.loc[items['ITEM_ID'] == item_id].values[0][-1]\n",
    "print(\"USER: {}\".format(user_id))\n",
    "print(\"ITEM: {}\".format(item_title))\n",
    "\n",
    "items"
   ]
  },
  {
   "cell_type": "code",
   "execution_count": null,
   "metadata": {},
   "outputs": [],
   "source": [
    "get_recommendations_response = personalize_runtime.get_recommendations(\n",
    "    campaignArn = campaign_arn,\n",
    "    userId = str(user_id),\n",
    "    itemId = str(item_id)\n",
    ")\n",
    "\n",
    "item_list = get_recommendations_response['itemList']\n",
    "title_list = [items.loc[items['ITEM_ID'] == np.int(item['itemId'])].values[0][-1] for item in item_list]\n",
    "\n",
    "print(\"Recommendations: {}\".format(json.dumps(title_list, indent=2)))"
   ]
  },
  {
   "cell_type": "code",
   "execution_count": null,
   "metadata": {},
   "outputs": [],
   "source": []
  },
  {
   "cell_type": "code",
   "execution_count": null,
   "metadata": {},
   "outputs": [],
   "source": []
  },
  {
   "cell_type": "code",
   "execution_count": null,
   "metadata": {},
   "outputs": [],
   "source": []
  }
 ],
 "metadata": {
  "kernelspec": {
   "display_name": "conda_pytorch_p36",
   "language": "python",
   "name": "conda_pytorch_p36"
  },
  "language_info": {
   "codemirror_mode": {
    "name": "ipython",
    "version": 3
   },
   "file_extension": ".py",
   "mimetype": "text/x-python",
   "name": "python",
   "nbconvert_exporter": "python",
   "pygments_lexer": "ipython3",
   "version": "3.6.5"
  }
 },
 "nbformat": 4,
 "nbformat_minor": 4
}
