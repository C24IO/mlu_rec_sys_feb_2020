{
 "cells": [
  {
   "cell_type": "code",
   "execution_count": 3,
   "metadata": {},
   "outputs": [],
   "source": [
    "import numpy as np\n",
    "import pandas as pd\n",
    "import json\n",
    "import datetime\n",
    "import matplotlib.pyplot as plt\n",
    "from sklearn.utils import shuffle\n",
    "import uuid\n",
    "import os\n",
    "from os import path\n",
    "from glob import glob\n",
    "import json\n",
    "import re\n",
    "import pickle\n",
    "import argparse\n",
    "\n",
    "import numpy as np\n",
    "from textwrap import wrap\n",
    "from scipy import ndimage, misc\n",
    "\n",
    "#import config\n",
    "#from type import RecipeContainer, DataContainer\n",
    "#from utils import url_to_filename\n",
    "\n",
    "# import matplotlib using agg backend\n",
    "import matplotlib as mpl\n",
    "mpl.use('Agg')\n",
    "import matplotlib.pyplot as plt\n",
    "import elasticsearch\n",
    "import boto3\n",
    "import requests\n",
    "import random\n",
    "import names\n",
    "import time"
   ]
  },
  {
   "cell_type": "code",
   "execution_count": 4,
   "metadata": {},
   "outputs": [
    {
     "name": "stdout",
     "output_type": "stream",
     "text": [
      "{\r\n",
      "  \"cluster_name\" : \"docker-cluster\",\r\n",
      "  \"status\" : \"yellow\",\r\n",
      "  \"timed_out\" : false,\r\n",
      "  \"number_of_nodes\" : 1,\r\n",
      "  \"number_of_data_nodes\" : 1,\r\n",
      "  \"active_primary_shards\" : 2,\r\n",
      "  \"active_shards\" : 2,\r\n",
      "  \"relocating_shards\" : 0,\r\n",
      "  \"initializing_shards\" : 0,\r\n",
      "  \"unassigned_shards\" : 2,\r\n",
      "  \"delayed_unassigned_shards\" : 0,\r\n",
      "  \"number_of_pending_tasks\" : 0,\r\n",
      "  \"number_of_in_flight_fetch\" : 0,\r\n",
      "  \"task_max_waiting_in_queue_millis\" : 0,\r\n",
      "  \"active_shards_percent_as_number\" : 50.0\r\n",
      "}\r\n"
     ]
    }
   ],
   "source": [
    "!curl -H 'Content-Type: application/json' -XGET http://localhost:9200/_cluster/health?pretty"
   ]
  },
  {
   "cell_type": "code",
   "execution_count": 11,
   "metadata": {},
   "outputs": [],
   "source": [
    "from elasticsearch import Elasticsearch\n",
    "from elasticsearch_dsl import Index"
   ]
  },
  {
   "cell_type": "code",
   "execution_count": 12,
   "metadata": {},
   "outputs": [],
   "source": [
    "# ElasticSearch instance (url)\n",
    "es = Elasticsearch(['http://localhost:9200/'])\n"
   ]
  },
  {
   "cell_type": "code",
   "execution_count": 17,
   "metadata": {},
   "outputs": [
    {
     "name": "stdout",
     "output_type": "stream",
     "text": [
      "{'took': 47, 'timed_out': False, '_shards': {'total': 1, 'successful': 1, 'skipped': 0, 'failed': 0}, 'hits': {'total': {'value': 1, 'relation': 'eq'}, 'max_score': 1.0, 'hits': [{'_index': 'openrecipes', '_type': 'recipies', '_id': 'RsFQonABCdzVdaBtiiRm', '_score': 1.0, '_source': {'settings': {'number_of_shards': 1}, 'mappings': {'recipe': {'properties': {'sales_name': {'type': 'string'}, 'ingredients': {'type': 'string', 'index': 'not_analyzed'}, 'craft': {'type': 'string', 'index': 'not_analyzed'}}}}}}]}}\n"
     ]
    }
   ],
   "source": [
    "response = es.search(index='openrecipes', body={\n",
    "    \"query\": {\n",
    "        \"match_all\": {}\n",
    "    }\n",
    "})\n",
    "print(response)"
   ]
  },
  {
   "cell_type": "code",
   "execution_count": 15,
   "metadata": {},
   "outputs": [
    {
     "ename": "TypeError",
     "evalue": "'IndicesClient' object is not callable",
     "output_type": "error",
     "traceback": [
      "\u001b[0;31m---------------------------------------------------------------------------\u001b[0m",
      "\u001b[0;31mTypeError\u001b[0m                                 Traceback (most recent call last)",
      "\u001b[0;32m<ipython-input-15-b1f4ec27895f>\u001b[0m in \u001b[0;36m<module>\u001b[0;34m\u001b[0m\n\u001b[0;32m----> 1\u001b[0;31m \u001b[0mes\u001b[0m\u001b[0;34m.\u001b[0m\u001b[0mindices\u001b[0m\u001b[0;34m(\u001b[0m\u001b[0;34m)\u001b[0m\u001b[0;34m\u001b[0m\u001b[0;34m\u001b[0m\u001b[0m\n\u001b[0m",
      "\u001b[0;31mTypeError\u001b[0m: 'IndicesClient' object is not callable"
     ]
    }
   ],
   "source": [
    "es.indices()"
   ]
  },
  {
   "cell_type": "code",
   "execution_count": null,
   "metadata": {},
   "outputs": [],
   "source": []
  },
  {
   "cell_type": "code",
   "execution_count": null,
   "metadata": {},
   "outputs": [],
   "source": []
  },
  {
   "cell_type": "code",
   "execution_count": null,
   "metadata": {},
   "outputs": [],
   "source": []
  },
  {
   "cell_type": "code",
   "execution_count": null,
   "metadata": {},
   "outputs": [],
   "source": []
  },
  {
   "cell_type": "code",
   "execution_count": null,
   "metadata": {},
   "outputs": [],
   "source": []
  },
  {
   "cell_type": "code",
   "execution_count": null,
   "metadata": {},
   "outputs": [],
   "source": []
  }
 ],
 "metadata": {
  "kernelspec": {
   "display_name": "Python 3",
   "language": "python",
   "name": "python3"
  },
  "language_info": {
   "codemirror_mode": {
    "name": "ipython",
    "version": 3
   },
   "file_extension": ".py",
   "mimetype": "text/x-python",
   "name": "python",
   "nbconvert_exporter": "python",
   "pygments_lexer": "ipython3",
   "version": "3.7.5"
  }
 },
 "nbformat": 4,
 "nbformat_minor": 4
}
