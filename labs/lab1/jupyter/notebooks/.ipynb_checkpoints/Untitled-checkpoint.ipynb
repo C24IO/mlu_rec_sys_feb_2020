{
 "cells": [
  {
   "cell_type": "markdown",
   "metadata": {},
   "source": [
    "From: https://github.com/kadnan/Python-Elasticsearch"
   ]
  },
  {
   "cell_type": "code",
   "execution_count": 1,
   "metadata": {},
   "outputs": [
    {
     "name": "stdout",
     "output_type": "stream",
     "text": [
      "Requirement already up-to-date: pip in /Users/chazarey/Desktop/Ready/MLU-Recommendation-Systems/Feb-2020/mlu_rec_sys_feb_2020/labs/lab1/jupyter/venv/lib/python3.7/site-packages (20.0.2)\n",
      "Requirement already satisfied: bs4 in /Users/chazarey/Desktop/Ready/MLU-Recommendation-Systems/Feb-2020/mlu_rec_sys_feb_2020/labs/lab1/jupyter/venv/lib/python3.7/site-packages (0.0.1)\n",
      "Requirement already satisfied: lxml in /Users/chazarey/Desktop/Ready/MLU-Recommendation-Systems/Feb-2020/mlu_rec_sys_feb_2020/labs/lab1/jupyter/venv/lib/python3.7/site-packages (4.5.0)\n",
      "Requirement already satisfied: html5lib in /Users/chazarey/Desktop/Ready/MLU-Recommendation-Systems/Feb-2020/mlu_rec_sys_feb_2020/labs/lab1/jupyter/venv/lib/python3.7/site-packages (1.0.1)\n",
      "Requirement already satisfied: beautifulsoup4 in /Users/chazarey/Desktop/Ready/MLU-Recommendation-Systems/Feb-2020/mlu_rec_sys_feb_2020/labs/lab1/jupyter/venv/lib/python3.7/site-packages (from bs4) (4.8.2)\n",
      "Requirement already satisfied: six>=1.9 in /Users/chazarey/Desktop/Ready/MLU-Recommendation-Systems/Feb-2020/mlu_rec_sys_feb_2020/labs/lab1/jupyter/venv/lib/python3.7/site-packages (from html5lib) (1.14.0)\n",
      "Requirement already satisfied: webencodings in /Users/chazarey/Desktop/Ready/MLU-Recommendation-Systems/Feb-2020/mlu_rec_sys_feb_2020/labs/lab1/jupyter/venv/lib/python3.7/site-packages (from html5lib) (0.5.1)\n",
      "Requirement already satisfied: soupsieve>=1.2 in /Users/chazarey/Desktop/Ready/MLU-Recommendation-Systems/Feb-2020/mlu_rec_sys_feb_2020/labs/lab1/jupyter/venv/lib/python3.7/site-packages (from beautifulsoup4->bs4) (2.0)\n"
     ]
    }
   ],
   "source": [
    "!pip install --upgrade pip\n",
    "!pip install bs4 lxml html5lib"
   ]
  },
  {
   "cell_type": "code",
   "execution_count": 2,
   "metadata": {},
   "outputs": [],
   "source": [
    "import json\n",
    "import logging\n",
    "from pprint import pprint\n",
    "from time import sleep\n",
    "\n",
    "import requests\n",
    "from bs4 import BeautifulSoup\n",
    "from elasticsearch import Elasticsearch"
   ]
  },
  {
   "cell_type": "code",
   "execution_count": 3,
   "metadata": {},
   "outputs": [],
   "source": [
    "def search(es_object, index_name, search):\n",
    "    res = es_object.search(index=index_name, body=search)\n",
    "    pprint(res)"
   ]
  },
  {
   "cell_type": "code",
   "execution_count": 4,
   "metadata": {},
   "outputs": [],
   "source": [
    "def create_index(es_object, index_name):\n",
    "    created = False\n",
    "    # index settings\n",
    "    settings = {\n",
    "        \"settings\": {\n",
    "            \"number_of_shards\": 1,\n",
    "            \"number_of_replicas\": 0\n",
    "        },\n",
    "        \"mappings\": {\n",
    "            \"salads\": {\n",
    "                \"dynamic\": \"strict\",\n",
    "                \"properties\": {\n",
    "                    \"title\": {\n",
    "                        \"type\": \"text\"\n",
    "                    },\n",
    "                    \"submitter\": {\n",
    "                        \"type\": \"text\"\n",
    "                    },\n",
    "                    \"description\": {\n",
    "                        \"type\": \"text\"\n",
    "                    },\n",
    "                    \"calories\": {\n",
    "                        \"type\": \"integer\"\n",
    "                    },\n",
    "                    \"ingredients\": {\n",
    "                        \"type\": \"nested\",\n",
    "                        \"properties\": {\n",
    "                            \"step\": {\"type\": \"text\"}\n",
    "                        }\n",
    "                    },\n",
    "                }\n",
    "            }\n",
    "        }\n",
    "    }\n",
    "\n",
    "    try:\n",
    "        if not es_object.indices.exists(index_name):\n",
    "            # Ignore 400 means to ignore \"Index Already Exist\" error.\n",
    "            es_object.indices.create(index=index_name, ignore=400, body=settings)\n",
    "            print('Created Index')\n",
    "        created = True\n",
    "    except Exception as ex:\n",
    "        print(str(ex))\n",
    "    finally:\n",
    "        return created\n"
   ]
  },
  {
   "cell_type": "code",
   "execution_count": 5,
   "metadata": {},
   "outputs": [],
   "source": [
    "def store_record(elastic_object, index_name, record):\n",
    "    is_stored = True\n",
    "    try:\n",
    "        outcome = elastic_object.index(index=index_name, doc_type='salads', body=record)\n",
    "        print(outcome)\n",
    "    except Exception as ex:\n",
    "        print('Error in indexing data')\n",
    "        print(str(ex))\n",
    "        is_stored = False\n",
    "    finally:\n",
    "        return is_stored\n"
   ]
  },
  {
   "cell_type": "code",
   "execution_count": 6,
   "metadata": {},
   "outputs": [],
   "source": [
    "def connect_elasticsearch():\n",
    "    _es = None\n",
    "    _es = Elasticsearch([{'host': 'localhost', 'port': 9200}])\n",
    "    if _es.ping():\n",
    "        print('Yay Connected')\n",
    "    else:\n",
    "        print('Awww it could not connect!')\n",
    "    return _es\n",
    "\n"
   ]
  },
  {
   "cell_type": "code",
   "execution_count": 7,
   "metadata": {},
   "outputs": [],
   "source": [
    "def parse(u):\n",
    "    title = '-'\n",
    "    submit_by = '-'\n",
    "    description = '-'\n",
    "    calories = 0\n",
    "    ingredients = []\n",
    "    rec = {}\n",
    "\n",
    "    try:\n",
    "        r = requests.get(u, headers=headers)\n",
    "\n",
    "        if r.status_code == 200:\n",
    "            html = r.text\n",
    "            soup = BeautifulSoup(html, 'html.parser')\n",
    "            # title\n",
    "            title_section = soup.select('.recipe-summary__h1')\n",
    "            # submitter\n",
    "            submitter_section = soup.select('.submitter__name')\n",
    "            # description\n",
    "            description_section = soup.select('.submitter__description')\n",
    "            # ingredients\n",
    "            ingredients_section = soup.select('.recipe-ingred_txt')\n",
    "\n",
    "            # calories\n",
    "            calories_section = soup.select('.calorie-count')\n",
    "            if calories_section:\n",
    "                calories = calories_section[0].text.replace('cals', '').strip()\n",
    "\n",
    "            if ingredients_section:\n",
    "                for ingredient in ingredients_section:\n",
    "                    ingredient_text = ingredient.text.strip()\n",
    "                    if 'Add all ingredients to list' not in ingredient_text and ingredient_text != '':\n",
    "                        ingredients.append({'step': ingredient.text.strip()})\n",
    "\n",
    "            if description_section:\n",
    "                description = description_section[0].text.strip().replace('\"', '')\n",
    "\n",
    "            if submitter_section:\n",
    "                submit_by = submitter_section[0].text.strip()\n",
    "\n",
    "            if title_section:\n",
    "                title = title_section[0].text\n",
    "\n",
    "            rec = {'title': title, 'submitter': submit_by, 'description': description, 'calories': calories,\n",
    "                   'ingredients': ingredients}\n",
    "    except Exception as ex:\n",
    "        print('Exception while parsing')\n",
    "        print(str(ex))\n",
    "    finally:\n",
    "        return json.dumps(rec)\n"
   ]
  },
  {
   "cell_type": "code",
   "execution_count": 8,
   "metadata": {},
   "outputs": [],
   "source": [
    "headers = {\n",
    "        'User-Agent': 'Mozilla/5.0 (Macintosh; Intel Mac OS X 10_11_6) AppleWebKit/537.36 (KHTML, like Gecko) Chrome/66.0.3359.181 Safari/537.36',\n",
    "        'Pragma': 'no-cache'\n",
    "    }\n",
    "logging.basicConfig(level=logging.ERROR)\n"
   ]
  },
  {
   "cell_type": "code",
   "execution_count": 9,
   "metadata": {},
   "outputs": [
    {
     "name": "stdout",
     "output_type": "stream",
     "text": [
      "Yay Connected\n",
      "Created Index\n",
      "{'_index': 'recipes', '_type': 'salads', '_id': 'H6ARpHABeIaf9XAG9ftW', '_version': 1, 'result': 'created', '_shards': {'total': 2, 'successful': 1, 'failed': 0}, '_seq_no': 0, '_primary_term': 1}\n",
      "Data indexed successfully\n",
      "{'_index': 'recipes', '_type': 'salads', '_id': 'IKASpHABeIaf9XAGAftE', '_version': 1, 'result': 'created', '_shards': {'total': 2, 'successful': 1, 'failed': 0}, '_seq_no': 1, '_primary_term': 1}\n",
      "Data indexed successfully\n",
      "{'_index': 'recipes', '_type': 'salads', '_id': 'IaASpHABeIaf9XAGDftj', '_version': 1, 'result': 'created', '_shards': {'total': 2, 'successful': 1, 'failed': 0}, '_seq_no': 2, '_primary_term': 1}\n",
      "Data indexed successfully\n",
      "{'_index': 'recipes', '_type': 'salads', '_id': 'IqASpHABeIaf9XAGGfsA', '_version': 1, 'result': 'created', '_shards': {'total': 2, 'successful': 1, 'failed': 0}, '_seq_no': 3, '_primary_term': 1}\n",
      "Data indexed successfully\n",
      "{'_index': 'recipes', '_type': 'salads', '_id': 'I6ASpHABeIaf9XAGI_vq', '_version': 1, 'result': 'created', '_shards': {'total': 2, 'successful': 1, 'failed': 0}, '_seq_no': 4, '_primary_term': 1}\n",
      "Data indexed successfully\n",
      "{'_index': 'recipes', '_type': 'salads', '_id': 'JKASpHABeIaf9XAGMPtz', '_version': 1, 'result': 'created', '_shards': {'total': 2, 'successful': 1, 'failed': 0}, '_seq_no': 5, '_primary_term': 1}\n",
      "Data indexed successfully\n",
      "{'_index': 'recipes', '_type': 'salads', '_id': 'JaASpHABeIaf9XAGOvue', '_version': 1, 'result': 'created', '_shards': {'total': 2, 'successful': 1, 'failed': 0}, '_seq_no': 6, '_primary_term': 1}\n",
      "Data indexed successfully\n",
      "{'_index': 'recipes', '_type': 'salads', '_id': 'JqASpHABeIaf9XAGRvug', '_version': 1, 'result': 'created', '_shards': {'total': 2, 'successful': 1, 'failed': 0}, '_seq_no': 7, '_primary_term': 1}\n",
      "Data indexed successfully\n",
      "{'_index': 'recipes', '_type': 'salads', '_id': 'J6ASpHABeIaf9XAGVPub', '_version': 1, 'result': 'created', '_shards': {'total': 2, 'successful': 1, 'failed': 0}, '_seq_no': 8, '_primary_term': 1}\n",
      "Data indexed successfully\n",
      "{'_index': 'recipes', '_type': 'salads', '_id': 'KKASpHABeIaf9XAGX_tv', '_version': 1, 'result': 'created', '_shards': {'total': 2, 'successful': 1, 'failed': 0}, '_seq_no': 9, '_primary_term': 1}\n",
      "Data indexed successfully\n",
      "{'_index': 'recipes', '_type': 'salads', '_id': 'KaASpHABeIaf9XAGafvz', '_version': 1, 'result': 'created', '_shards': {'total': 2, 'successful': 1, 'failed': 0}, '_seq_no': 10, '_primary_term': 1}\n",
      "Data indexed successfully\n",
      "{'_index': 'recipes', '_type': 'salads', '_id': 'KqASpHABeIaf9XAGdPtV', '_version': 1, 'result': 'created', '_shards': {'total': 2, 'successful': 1, 'failed': 0}, '_seq_no': 11, '_primary_term': 1}\n",
      "Data indexed successfully\n",
      "{'_index': 'recipes', '_type': 'salads', '_id': 'K6ASpHABeIaf9XAGfvvu', '_version': 1, 'result': 'created', '_shards': {'total': 2, 'successful': 1, 'failed': 0}, '_seq_no': 12, '_primary_term': 1}\n",
      "Data indexed successfully\n",
      "{'_index': 'recipes', '_type': 'salads', '_id': 'LKASpHABeIaf9XAGivvw', '_version': 1, 'result': 'created', '_shards': {'total': 2, 'successful': 1, 'failed': 0}, '_seq_no': 13, '_primary_term': 1}\n",
      "Data indexed successfully\n",
      "{'_index': 'recipes', '_type': 'salads', '_id': 'LaASpHABeIaf9XAGmvsj', '_version': 1, 'result': 'created', '_shards': {'total': 2, 'successful': 1, 'failed': 0}, '_seq_no': 14, '_primary_term': 1}\n",
      "Data indexed successfully\n",
      "{'_index': 'recipes', '_type': 'salads', '_id': 'LqASpHABeIaf9XAGpPub', '_version': 1, 'result': 'created', '_shards': {'total': 2, 'successful': 1, 'failed': 0}, '_seq_no': 15, '_primary_term': 1}\n",
      "Data indexed successfully\n",
      "{'_index': 'recipes', '_type': 'salads', '_id': 'L6ASpHABeIaf9XAGs_sr', '_version': 1, 'result': 'created', '_shards': {'total': 2, 'successful': 1, 'failed': 0}, '_seq_no': 16, '_primary_term': 1}\n",
      "Data indexed successfully\n",
      "{'_index': 'recipes', '_type': 'salads', '_id': 'MKASpHABeIaf9XAGvvsx', '_version': 1, 'result': 'created', '_shards': {'total': 2, 'successful': 1, 'failed': 0}, '_seq_no': 17, '_primary_term': 1}\n",
      "Data indexed successfully\n",
      "{'_index': 'recipes', '_type': 'salads', '_id': 'MaASpHABeIaf9XAGyftN', '_version': 1, 'result': 'created', '_shards': {'total': 2, 'successful': 1, 'failed': 0}, '_seq_no': 18, '_primary_term': 1}\n",
      "Data indexed successfully\n",
      "{'_index': 'recipes', '_type': 'salads', '_id': 'MqASpHABeIaf9XAG0_ui', '_version': 1, 'result': 'created', '_shards': {'total': 2, 'successful': 1, 'failed': 0}, '_seq_no': 19, '_primary_term': 1}\n",
      "Data indexed successfully\n",
      "{'_index': 'recipes', '_type': 'salads', '_id': 'M6ASpHABeIaf9XAG3vs4', '_version': 1, 'result': 'created', '_shards': {'total': 2, 'successful': 1, 'failed': 0}, '_seq_no': 20, '_primary_term': 1}\n",
      "Data indexed successfully\n",
      "{'_index': 'recipes', '_type': 'salads', '_id': 'NKASpHABeIaf9XAG6ftl', '_version': 1, 'result': 'created', '_shards': {'total': 2, 'successful': 1, 'failed': 0}, '_seq_no': 21, '_primary_term': 1}\n",
      "Data indexed successfully\n",
      "{'_index': 'recipes', '_type': 'salads', '_id': 'NaASpHABeIaf9XAG9PuA', '_version': 1, 'result': 'created', '_shards': {'total': 2, 'successful': 1, 'failed': 0}, '_seq_no': 22, '_primary_term': 1}\n",
      "Data indexed successfully\n",
      "{'_index': 'recipes', '_type': 'salads', '_id': 'NqATpHABeIaf9XAGA_t6', '_version': 1, 'result': 'created', '_shards': {'total': 2, 'successful': 1, 'failed': 0}, '_seq_no': 23, '_primary_term': 1}\n",
      "Data indexed successfully\n",
      "{'_index': 'recipes', '_type': 'salads', '_id': 'N6ATpHABeIaf9XAGEPtv', '_version': 1, 'result': 'created', '_shards': {'total': 2, 'successful': 1, 'failed': 0}, '_seq_no': 24, '_primary_term': 1}\n",
      "Data indexed successfully\n",
      "{'_index': 'recipes', '_type': 'salads', '_id': 'OKATpHABeIaf9XAGIPtx', '_version': 1, 'result': 'created', '_shards': {'total': 2, 'successful': 1, 'failed': 0}, '_seq_no': 25, '_primary_term': 1}\n",
      "Data indexed successfully\n",
      "{'_index': 'recipes', '_type': 'salads', '_id': 'OaATpHABeIaf9XAGLfv0', '_version': 1, 'result': 'created', '_shards': {'total': 2, 'successful': 1, 'failed': 0}, '_seq_no': 26, '_primary_term': 1}\n",
      "Data indexed successfully\n",
      "{'_index': 'recipes', '_type': 'salads', '_id': 'OqATpHABeIaf9XAGPvtz', '_version': 1, 'result': 'created', '_shards': {'total': 2, 'successful': 1, 'failed': 0}, '_seq_no': 27, '_primary_term': 1}\n",
      "Data indexed successfully\n",
      "{'_index': 'recipes', '_type': 'salads', '_id': 'O6ATpHABeIaf9XAGS_sY', '_version': 1, 'result': 'created', '_shards': {'total': 2, 'successful': 1, 'failed': 0}, '_seq_no': 28, '_primary_term': 1}\n",
      "Data indexed successfully\n"
     ]
    }
   ],
   "source": [
    "url = 'https://www.allrecipes.com/recipes/96/salad/'\n",
    "r = requests.get(url, headers=headers)\n",
    "if r.status_code == 200:\n",
    "    html = r.text\n",
    "    soup = BeautifulSoup(html, 'html.parser')\n",
    "    links = soup.select('.fixed-recipe-card__h3 a')\n",
    "    if len(links) > 0:\n",
    "        es = connect_elasticsearch()\n",
    "\n",
    "    for link in links:\n",
    "        sleep(2)\n",
    "        result = parse(link['href'])\n",
    "        if es is not None:\n",
    "            if create_index(es, 'recipes'):\n",
    "                out = store_record(es, 'recipes', result)\n",
    "                print('Data indexed successfully')\n"
   ]
  },
  {
   "cell_type": "code",
   "execution_count": 12,
   "metadata": {},
   "outputs": [
    {
     "name": "stdout",
     "output_type": "stream",
     "text": [
      "Yay Connected\n",
      "{'_shards': {'failed': 0, 'skipped': 0, 'successful': 1, 'total': 1},\n",
      " 'hits': {'hits': [],\n",
      "          'max_score': None,\n",
      "          'total': {'relation': 'eq', 'value': 0}},\n",
      " 'timed_out': False,\n",
      " 'took': 22}\n"
     ]
    }
   ],
   "source": [
    "es = connect_elasticsearch()\n",
    "if es is not None:\n",
    "    search_object = {'query': {'match': {'calories': '102'}}}\n",
    "    # search_object = {'_source': ['title'], 'query': {'match': {'calories': '102'}}}\n",
    "    # search_object = {'_source': ['title'], 'query': {'range': {'calories': {'gte': 20}}}}\n",
    "    search(es, 'recipes', json.dumps(search_object))"
   ]
  },
  {
   "cell_type": "code",
   "execution_count": null,
   "metadata": {},
   "outputs": [],
   "source": []
  }
 ],
 "metadata": {
  "kernelspec": {
   "display_name": "Python 3",
   "language": "python",
   "name": "python3"
  },
  "language_info": {
   "codemirror_mode": {
    "name": "ipython",
    "version": 3
   },
   "file_extension": ".py",
   "mimetype": "text/x-python",
   "name": "python",
   "nbconvert_exporter": "python",
   "pygments_lexer": "ipython3",
   "version": "3.7.5"
  }
 },
 "nbformat": 4,
 "nbformat_minor": 4
}
